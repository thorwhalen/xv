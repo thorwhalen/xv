{
 "cells": [
  {
   "cell_type": "code",
   "execution_count": null,
   "metadata": {},
   "outputs": [],
   "source": []
  },
  {
   "cell_type": "markdown",
   "metadata": {},
   "source": [
    "# Arxiv Abstracts"
   ]
  },
  {
   "cell_type": "code",
   "execution_count": 1,
   "metadata": {},
   "outputs": [],
   "source": [
    "from xv import *"
   ]
  },
  {
   "cell_type": "markdown",
   "metadata": {},
   "source": [
    "## Raw store"
   ]
  },
  {
   "cell_type": "markdown",
   "metadata": {},
   "source": [
    "At the point of writing this, my attempts enable `graze` to automatically confirm download in the googledrive downloads (which, when downloading too-big files, will tell the user it can't scan the file and ask the user to confirm the download).\n",
    "\n",
    "Therefore, the following files need to be downloaded manually:\n",
    "* **titles**: https://drive.google.com/file/d/1Ul5mPePtoPKHZkH5Rm6dWKAO11dG98GN/view?usp=share_link\n",
    "* **abstracts**: https://drive.google.com/file/d/1g3K-wlixFxklTSUQNZKpEgN4WNTFTPIZ/view?usp=share_link\n",
    "\n",
    "(If those urls don't work, perhaps they were updated: See here: https://alex.macrocosm.so/download .)\n",
    "\n",
    "You can then copy them over to the place graze will look for by doing:\n",
    "\n",
    "```python\n",
    "from pathlib import Path\n",
    "from xv.util import Graze\n",
    "from xv.data_access import urls\n",
    "\n",
    "\n",
    "g[urls['titles']] = Path('TITLES_DATA_LOCAL_FILEPATH').read_bytes()\n",
    "g[urls['abstracts']] = Path('ABSTRACTS_DATA_LOCAL_FILEPATH').read_bytes()\n",
    "```"
   ]
  },
  {
   "cell_type": "code",
   "execution_count": 11,
   "metadata": {},
   "outputs": [],
   "source": [
    "# from imbed.mdat.arxiv import urls\n",
    "# from pathlib import Path\n",
    "\n",
    "# g[urls['titles']] = Path('FILE_WHERE_YOU_DOWNLOADED_TITLES_DATA').read_bytes()\n",
    "# g[urls['abstracts']] = Path('FILE_WHERE_YOU_DOWNLOADED_TITLES_DATA').read_bytes()\n"
   ]
  },
  {
   "cell_type": "code",
   "execution_count": 4,
   "metadata": {},
   "outputs": [
    {
     "data": {
      "text/plain": [
       "['https://drive.google.com/file/d/1Ul5mPePtoPKHZkH5Rm6dWKAO11dG98GN/view?usp=share_link',\n",
       " 'https://drive.google.com/file/d/1g3K-wlixFxklTSUQNZKpEgN4WNTFTPIZ/view?usp=share_link',\n",
       " 'https://arxiv.org/pdf/0704.0001']"
      ]
     },
     "execution_count": 4,
     "metadata": {},
     "output_type": "execute_result"
    }
   ],
   "source": [
    "from xv.util import Graze\n",
    "\n",
    "g = Graze()\n",
    "list(g)"
   ]
  },
  {
   "cell_type": "code",
   "execution_count": 5,
   "metadata": {},
   "outputs": [
    {
     "data": {
      "text/plain": [
       "['titles', 'abstracts']"
      ]
     },
     "execution_count": 5,
     "metadata": {},
     "output_type": "execute_result"
    }
   ],
   "source": [
    "from xv import raw_sources\n",
    "\n",
    "list(raw_sources)"
   ]
  },
  {
   "cell_type": "markdown",
   "metadata": {},
   "source": []
  },
  {
   "cell_type": "code",
   "execution_count": 6,
   "metadata": {},
   "outputs": [
    {
     "data": {
      "text/plain": [
       "['titles_7.parquet',\n",
       " 'titles_23.parquet',\n",
       " 'titles_15.parquet',\n",
       " 'verifyResults.py',\n",
       " 'titles_14.parquet',\n",
       " 'titles_22.parquet',\n",
       " 'titles_6.parquet',\n",
       " 'titles_16.parquet',\n",
       " 'titles_20.parquet',\n",
       " 'titles_4.parquet',\n",
       " 'titles_5.parquet',\n",
       " 'titles_21.parquet',\n",
       " 'params.txt',\n",
       " 'titles_17.parquet',\n",
       " 'exampleEmbed.py',\n",
       " 'titles_12.parquet',\n",
       " 'README.md',\n",
       " 'titles_9.parquet',\n",
       " 'titles_1.parquet',\n",
       " 'titles_13.parquet',\n",
       " 'titles_8.parquet',\n",
       " 'titles_18.parquet',\n",
       " 'titles_3.parquet',\n",
       " 'titles_11.parquet',\n",
       " 'titles_10.parquet',\n",
       " 'titles_19.parquet',\n",
       " 'titles_2.parquet']"
      ]
     },
     "execution_count": 6,
     "metadata": {},
     "output_type": "execute_result"
    }
   ],
   "source": [
    "raw = raw_sources['titles']\n",
    "list(raw)"
   ]
  },
  {
   "cell_type": "code",
   "execution_count": 7,
   "metadata": {},
   "outputs": [
    {
     "name": "stdout",
     "output_type": "stream",
     "text": [
      "from InstructorEmbedding import INSTRUCTOR\n",
      "\n",
      "model = INSTRUCTOR('hkunlp/instructor-xl')\n",
      "sentence = \"3D ActionSLAM: wearable person tracking in multi-floor environments\"\n",
      "instruction = \"Represent the Research Paper title for retrieval; Input:\"\n",
      "embeddings = model.encode([[instruction,sentence]])\n",
      "print(embeddings)\n"
     ]
    }
   ],
   "source": [
    "print(raw['exampleEmbed.py'].decode())"
   ]
  },
  {
   "cell_type": "code",
   "execution_count": 1,
   "metadata": {},
   "outputs": [
    {
     "name": "stderr",
     "output_type": "stream",
     "text": [
      "/Users/thorwhalen/.pyenv/versions/3.10.13/envs/p10/lib/python3.10/site-packages/InstructorEmbedding/instructor.py:7: TqdmExperimentalWarning: Using `tqdm.autonotebook.tqdm` in notebook mode. Use `tqdm.tqdm` instead to force console mode (e.g. in jupyter console)\n",
      "  from tqdm.autonotebook import trange\n"
     ]
    },
    {
     "name": "stdout",
     "output_type": "stream",
     "text": [
      "load INSTRUCTOR_Transformer\n",
      "max_seq_length  512\n"
     ]
    }
   ],
   "source": [
    "from InstructorEmbedding import INSTRUCTOR\n",
    "\n",
    "model = INSTRUCTOR('hkunlp/instructor-xl')\n"
   ]
  },
  {
   "cell_type": "code",
   "execution_count": 11,
   "metadata": {},
   "outputs": [],
   "source": [
    "sentence = \"3D ActionSLAM: wearable person tracking in multi-floor environments\"\n",
    "instruction = \"Represent the Research Paper title for retrieval; Input:\"\n",
    "embeddings = model.encode([[instruction, sentence]])\n"
   ]
  },
  {
   "cell_type": "code",
   "execution_count": 8,
   "metadata": {},
   "outputs": [
    {
     "name": "stdout",
     "output_type": "stream",
     "text": [
      "prompt: Represent the Research Paper title for retrieval; Input:\n",
      "type: title\n",
      "time string: 20230518-185428\n",
      "model: InstructorXL\n",
      "version: 2.0\n"
     ]
    }
   ],
   "source": [
    "print(raw['params.txt'].decode())"
   ]
  },
  {
   "cell_type": "code",
   "execution_count": 9,
   "metadata": {},
   "outputs": [
    {
     "name": "stdout",
     "output_type": "stream",
     "text": [
      "from InstructorEmbedding import INSTRUCTOR\n",
      "\n",
      "model = INSTRUCTOR('hkunlp/instructor-xl')\n",
      "sentence = \"3D ActionSLAM: wearable person tracking in multi-floor environments\"\n",
      "instruction = \"Represent the Research Paper title for retrieval; Input:\"\n",
      "embeddings = model.encode([[instruction,sentence]])\n",
      "print(embeddings)\n"
     ]
    }
   ],
   "source": [
    "print(raw['exampleEmbed.py'].decode())"
   ]
  },
  {
   "cell_type": "markdown",
   "metadata": {},
   "source": [
    "## The imbedding data store"
   ]
  },
  {
   "cell_type": "markdown",
   "metadata": {},
   "source": [
    "And now, we'll transform the raw store to get a convenient interface to the actual data of interest."
   ]
  },
  {
   "cell_type": "code",
   "execution_count": 4,
   "metadata": {},
   "outputs": [
    {
     "data": {
      "text/plain": [
       "313383694"
      ]
     },
     "execution_count": 4,
     "metadata": {},
     "output_type": "execute_result"
    }
   ],
   "source": [
    "b = raw['titles_1.parquet']\n",
    "len(b)"
   ]
  },
  {
   "cell_type": "code",
   "execution_count": 13,
   "metadata": {},
   "outputs": [
    {
     "name": "stdout",
     "output_type": "stream",
     "text": [
      "[1, 2, 3, 4, 5, 6, 7, 8, 9, 10, 11, 12, 13, 14, 15, 16, 17, 18, 19, 20, 21, 22, 23]\n"
     ]
    }
   ],
   "source": [
    "from xv import sources  # raw store + wrapper. See parquet_codec code.\n",
    "\n",
    "titles_tables = sources['titles']\n",
    "abstract_tables = sources['abstracts']\n",
    "print(list(titles_tables))"
   ]
  },
  {
   "cell_type": "code",
   "execution_count": 14,
   "metadata": {},
   "outputs": [
    {
     "data": {
      "text/html": [
       "<div>\n",
       "<style scoped>\n",
       "    .dataframe tbody tr th:only-of-type {\n",
       "        vertical-align: middle;\n",
       "    }\n",
       "\n",
       "    .dataframe tbody tr th {\n",
       "        vertical-align: top;\n",
       "    }\n",
       "\n",
       "    .dataframe thead th {\n",
       "        text-align: right;\n",
       "    }\n",
       "</style>\n",
       "<table border=\"1\" class=\"dataframe\">\n",
       "  <thead>\n",
       "    <tr style=\"text-align: right;\">\n",
       "      <th></th>\n",
       "      <th>title</th>\n",
       "      <th>embeddings</th>\n",
       "      <th>doi</th>\n",
       "    </tr>\n",
       "  </thead>\n",
       "  <tbody>\n",
       "    <tr>\n",
       "      <th>0</th>\n",
       "      <td>Calculation of prompt diphoton production cros...</td>\n",
       "      <td>[-0.050620172, 0.041436385, 0.05363288, -0.029...</td>\n",
       "      <td>0704.0001</td>\n",
       "    </tr>\n",
       "    <tr>\n",
       "      <th>1</th>\n",
       "      <td>Sparsity-certifying Graph Decompositions</td>\n",
       "      <td>[0.014515653, 0.023809524, -0.028145121, -0.04...</td>\n",
       "      <td>0704.0002</td>\n",
       "    </tr>\n",
       "    <tr>\n",
       "      <th>2</th>\n",
       "      <td>The evolution of the Earth-Moon system based o...</td>\n",
       "      <td>[-4.766115e-05, 0.017415706, 0.04146007, -0.03...</td>\n",
       "      <td>0704.0003</td>\n",
       "    </tr>\n",
       "    <tr>\n",
       "      <th>3</th>\n",
       "      <td>A determinant of Stirling cycle numbers counts...</td>\n",
       "      <td>[0.027208889, 0.046175897, 0.0010913888, -0.01...</td>\n",
       "      <td>0704.0004</td>\n",
       "    </tr>\n",
       "    <tr>\n",
       "      <th>4</th>\n",
       "      <td>From dyadic $\\Lambda_{\\alpha}$ to $\\Lambda_{\\a...</td>\n",
       "      <td>[0.0113909235, 0.0042667952, -0.0008565594, -0...</td>\n",
       "      <td>0704.0005</td>\n",
       "    </tr>\n",
       "    <tr>\n",
       "      <th>...</th>\n",
       "      <td>...</td>\n",
       "      <td>...</td>\n",
       "      <td>...</td>\n",
       "    </tr>\n",
       "    <tr>\n",
       "      <th>99995</th>\n",
       "      <td>Multiple Time Dimensions</td>\n",
       "      <td>[0.02682626, -0.0015173098, -0.0019915192, -0....</td>\n",
       "      <td>0812.3869</td>\n",
       "    </tr>\n",
       "    <tr>\n",
       "      <th>99996</th>\n",
       "      <td>Depth Zero Representations of Nonlinear Covers...</td>\n",
       "      <td>[-0.02740943, 0.011689809, -0.0105154915, -0.0...</td>\n",
       "      <td>0812.3870</td>\n",
       "    </tr>\n",
       "    <tr>\n",
       "      <th>99997</th>\n",
       "      <td>Decting Errors in Reversible Circuits With Inv...</td>\n",
       "      <td>[0.0072460608, 0.0028085636, -0.015064359, -0....</td>\n",
       "      <td>0812.3871</td>\n",
       "    </tr>\n",
       "    <tr>\n",
       "      <th>99998</th>\n",
       "      <td>Unveiling the birth and evolution of the HII r...</td>\n",
       "      <td>[0.009408689, -0.0047120117, 0.0021392817, -0....</td>\n",
       "      <td>0812.3872</td>\n",
       "    </tr>\n",
       "    <tr>\n",
       "      <th>99999</th>\n",
       "      <td>The K-Receiver Broadcast Channel with Confiden...</td>\n",
       "      <td>[-0.0026305509, -0.006502139, 0.013400236, -0....</td>\n",
       "      <td>0812.3873</td>\n",
       "    </tr>\n",
       "  </tbody>\n",
       "</table>\n",
       "<p>100000 rows × 3 columns</p>\n",
       "</div>"
      ],
      "text/plain": [
       "                                                   title  \\\n",
       "0      Calculation of prompt diphoton production cros...   \n",
       "1               Sparsity-certifying Graph Decompositions   \n",
       "2      The evolution of the Earth-Moon system based o...   \n",
       "3      A determinant of Stirling cycle numbers counts...   \n",
       "4      From dyadic $\\Lambda_{\\alpha}$ to $\\Lambda_{\\a...   \n",
       "...                                                  ...   \n",
       "99995                           Multiple Time Dimensions   \n",
       "99996  Depth Zero Representations of Nonlinear Covers...   \n",
       "99997  Decting Errors in Reversible Circuits With Inv...   \n",
       "99998  Unveiling the birth and evolution of the HII r...   \n",
       "99999  The K-Receiver Broadcast Channel with Confiden...   \n",
       "\n",
       "                                              embeddings        doi  \n",
       "0      [-0.050620172, 0.041436385, 0.05363288, -0.029...  0704.0001  \n",
       "1      [0.014515653, 0.023809524, -0.028145121, -0.04...  0704.0002  \n",
       "2      [-4.766115e-05, 0.017415706, 0.04146007, -0.03...  0704.0003  \n",
       "3      [0.027208889, 0.046175897, 0.0010913888, -0.01...  0704.0004  \n",
       "4      [0.0113909235, 0.0042667952, -0.0008565594, -0...  0704.0005  \n",
       "...                                                  ...        ...  \n",
       "99995  [0.02682626, -0.0015173098, -0.0019915192, -0....  0812.3869  \n",
       "99996  [-0.02740943, 0.011689809, -0.0105154915, -0.0...  0812.3870  \n",
       "99997  [0.0072460608, 0.0028085636, -0.015064359, -0....  0812.3871  \n",
       "99998  [0.009408689, -0.0047120117, 0.0021392817, -0....  0812.3872  \n",
       "99999  [-0.0026305509, -0.006502139, 0.013400236, -0....  0812.3873  \n",
       "\n",
       "[100000 rows x 3 columns]"
      ]
     },
     "execution_count": 14,
     "metadata": {},
     "output_type": "execute_result"
    }
   ],
   "source": [
    "titles_df = titles_tables[1]\n",
    "titles_df"
   ]
  },
  {
   "cell_type": "code",
   "execution_count": 15,
   "metadata": {},
   "outputs": [
    {
     "data": {
      "text/html": [
       "<div>\n",
       "<style scoped>\n",
       "    .dataframe tbody tr th:only-of-type {\n",
       "        vertical-align: middle;\n",
       "    }\n",
       "\n",
       "    .dataframe tbody tr th {\n",
       "        vertical-align: top;\n",
       "    }\n",
       "\n",
       "    .dataframe thead th {\n",
       "        text-align: right;\n",
       "    }\n",
       "</style>\n",
       "<table border=\"1\" class=\"dataframe\">\n",
       "  <thead>\n",
       "    <tr style=\"text-align: right;\">\n",
       "      <th></th>\n",
       "      <th>abstract</th>\n",
       "      <th>embeddings</th>\n",
       "      <th>doi</th>\n",
       "    </tr>\n",
       "  </thead>\n",
       "  <tbody>\n",
       "    <tr>\n",
       "      <th>0</th>\n",
       "      <td>A fully differential calculation in perturba...</td>\n",
       "      <td>[-0.035151865, 0.022851437, 0.025942933, -0.02...</td>\n",
       "      <td>0704.0001</td>\n",
       "    </tr>\n",
       "    <tr>\n",
       "      <th>1</th>\n",
       "      <td>We describe a new algorithm, the $(k,\\ell)$-...</td>\n",
       "      <td>[0.035485767, -0.0015772493, -0.0016615744, -0...</td>\n",
       "      <td>0704.0002</td>\n",
       "    </tr>\n",
       "    <tr>\n",
       "      <th>2</th>\n",
       "      <td>The evolution of Earth-Moon system is descri...</td>\n",
       "      <td>[-0.014510429, 0.010210799, 0.049661566, -0.01...</td>\n",
       "      <td>0704.0003</td>\n",
       "    </tr>\n",
       "    <tr>\n",
       "      <th>3</th>\n",
       "      <td>We show that a determinant of Stirling cycle...</td>\n",
       "      <td>[0.029191103, 0.047992915, -0.0061754594, -0.0...</td>\n",
       "      <td>0704.0004</td>\n",
       "    </tr>\n",
       "    <tr>\n",
       "      <th>4</th>\n",
       "      <td>In this paper we show how to compute the $\\L...</td>\n",
       "      <td>[-0.015174898, 0.01603887, 0.04062805, -0.0246...</td>\n",
       "      <td>0704.0005</td>\n",
       "    </tr>\n",
       "    <tr>\n",
       "      <th>...</th>\n",
       "      <td>...</td>\n",
       "      <td>...</td>\n",
       "      <td>...</td>\n",
       "    </tr>\n",
       "    <tr>\n",
       "      <th>99995</th>\n",
       "      <td>The possibility of physics in multiple time ...</td>\n",
       "      <td>[0.016121766, 0.011126887, 0.018650021, -0.044...</td>\n",
       "      <td>0812.3869</td>\n",
       "    </tr>\n",
       "    <tr>\n",
       "      <th>99996</th>\n",
       "      <td>We generalize the methods of Moy-Prasad, in ...</td>\n",
       "      <td>[-7.164341e-05, -0.007114291, -0.008979887, -0...</td>\n",
       "      <td>0812.3870</td>\n",
       "    </tr>\n",
       "    <tr>\n",
       "      <th>99997</th>\n",
       "      <td>Reversible logic is experience renewed inter...</td>\n",
       "      <td>[0.03194286, -0.00771745, 0.015977046, -0.0474...</td>\n",
       "      <td>0812.3871</td>\n",
       "    </tr>\n",
       "    <tr>\n",
       "      <th>99998</th>\n",
       "      <td>Based on a multiwavelength study, the ISM ar...</td>\n",
       "      <td>[-0.012340169, -0.021712925, 0.00806009, -0.00...</td>\n",
       "      <td>0812.3872</td>\n",
       "    </tr>\n",
       "    <tr>\n",
       "      <th>99999</th>\n",
       "      <td>The secrecy capacity region for the K-receiv...</td>\n",
       "      <td>[0.0012416588, 0.0006933478, -0.0057888636, -0...</td>\n",
       "      <td>0812.3873</td>\n",
       "    </tr>\n",
       "  </tbody>\n",
       "</table>\n",
       "<p>100000 rows × 3 columns</p>\n",
       "</div>"
      ],
      "text/plain": [
       "                                                abstract  \\\n",
       "0        A fully differential calculation in perturba...   \n",
       "1        We describe a new algorithm, the $(k,\\ell)$-...   \n",
       "2        The evolution of Earth-Moon system is descri...   \n",
       "3        We show that a determinant of Stirling cycle...   \n",
       "4        In this paper we show how to compute the $\\L...   \n",
       "...                                                  ...   \n",
       "99995    The possibility of physics in multiple time ...   \n",
       "99996    We generalize the methods of Moy-Prasad, in ...   \n",
       "99997    Reversible logic is experience renewed inter...   \n",
       "99998    Based on a multiwavelength study, the ISM ar...   \n",
       "99999    The secrecy capacity region for the K-receiv...   \n",
       "\n",
       "                                              embeddings        doi  \n",
       "0      [-0.035151865, 0.022851437, 0.025942933, -0.02...  0704.0001  \n",
       "1      [0.035485767, -0.0015772493, -0.0016615744, -0...  0704.0002  \n",
       "2      [-0.014510429, 0.010210799, 0.049661566, -0.01...  0704.0003  \n",
       "3      [0.029191103, 0.047992915, -0.0061754594, -0.0...  0704.0004  \n",
       "4      [-0.015174898, 0.01603887, 0.04062805, -0.0246...  0704.0005  \n",
       "...                                                  ...        ...  \n",
       "99995  [0.016121766, 0.011126887, 0.018650021, -0.044...  0812.3869  \n",
       "99996  [-7.164341e-05, -0.007114291, -0.008979887, -0...  0812.3870  \n",
       "99997  [0.03194286, -0.00771745, 0.015977046, -0.0474...  0812.3871  \n",
       "99998  [-0.012340169, -0.021712925, 0.00806009, -0.00...  0812.3872  \n",
       "99999  [0.0012416588, 0.0006933478, -0.0057888636, -0...  0812.3873  \n",
       "\n",
       "[100000 rows x 3 columns]"
      ]
     },
     "execution_count": 15,
     "metadata": {},
     "output_type": "execute_result"
    }
   ],
   "source": [
    "abstract_df = abstract_tables[1]\n",
    "abstract_df"
   ]
  },
  {
   "cell_type": "code",
   "execution_count": 16,
   "metadata": {},
   "outputs": [
    {
     "data": {
      "text/plain": [
       "array(['0704.0001', '0704.0002', '0704.0003', ..., '0812.3871',\n",
       "       '0812.3872', '0812.3873'], dtype=object)"
      ]
     },
     "execution_count": 16,
     "metadata": {},
     "output_type": "execute_result"
    }
   ],
   "source": [
    "abstract_df['doi'].values"
   ]
  },
  {
   "cell_type": "code",
   "execution_count": 17,
   "metadata": {},
   "outputs": [
    {
     "data": {
      "text/plain": [
       "'https://arxiv.org/abs/0704.0001'"
      ]
     },
     "execution_count": 17,
     "metadata": {},
     "output_type": "execute_result"
    }
   ],
   "source": [
    "from xv import arxiv_url\n",
    "\n",
    "doi = abstract_df['doi'].values[0]\n",
    "arxiv_url(doi)"
   ]
  },
  {
   "cell_type": "code",
   "execution_count": 20,
   "metadata": {},
   "outputs": [
    {
     "data": {
      "text/plain": [
       "{'abs': 'Main page of article. Contains links to all other relevant information.',\n",
       " 'pdf': 'Direct link to article pdf',\n",
       " 'format': 'Page giving access to other formats',\n",
       " 'src': 'Access to the original source files submitted by the authors.',\n",
       " 'cits': 'Tracks citations of the article across various platforms and databases.',\n",
       " 'html': 'Link to the ar5iv html page for the article.'}"
      ]
     },
     "execution_count": 20,
     "metadata": {},
     "output_type": "execute_result"
    }
   ],
   "source": [
    "from xv.data_access import resource_descriptions\n",
    "resource_descriptions"
   ]
  },
  {
   "cell_type": "code",
   "execution_count": 23,
   "metadata": {},
   "outputs": [
    {
     "name": "stdout",
     "output_type": "stream",
     "text": [
      "abs: Main page of article. Contains links to all other relevant information.\n",
      "Example: https://arxiv.org/abs/0704.0001\n",
      "\n",
      "pdf: Direct link to article pdf\n",
      "Example: https://arxiv.org/pdf/0704.0001\n",
      "\n",
      "format: Page giving access to other formats\n",
      "Example: https://arxiv.org/format/0704.0001\n",
      "\n",
      "src: Access to the original source files submitted by the authors.\n",
      "Example: https://arxiv.org/src/0704.0001\n",
      "\n",
      "cits: Tracks citations of the article across various platforms and databases.\n",
      "Example: https://arxiv.org/cits/0704.0001\n",
      "\n",
      "html: Link to the ar5iv html page for the article.\n",
      "Example: https://ar5iv.labs.arxiv.org/html/0704.0001\n",
      "\n"
     ]
    }
   ],
   "source": [
    "doi = '0704.0001'\n",
    "\n",
    "for resource, description in resource_descriptions.items():\n",
    "    print(f\"{resource}: {description}\")\n",
    "    print(f\"Example: {arxiv_url(doi, resource)}\")\n",
    "    print(\"\")\n"
   ]
  },
  {
   "cell_type": "code",
   "execution_count": 13,
   "metadata": {},
   "outputs": [
    {
     "data": {
      "text/plain": [
       "'https://arxiv.org/pdf/0704.0001'"
      ]
     },
     "execution_count": 13,
     "metadata": {},
     "output_type": "execute_result"
    }
   ],
   "source": [
    "arxiv_url(doi, 'pdf')"
   ]
  },
  {
   "cell_type": "code",
   "execution_count": 14,
   "metadata": {},
   "outputs": [
    {
     "name": "stdout",
     "output_type": "stream",
     "text": [
      "The contents  (~1.647MB) of https://arxiv.org/pdf/0704.0001 are being downloaded...\n"
     ]
    }
   ],
   "source": [
    "pdf_bytes = g[arxiv_url(doi, 'pdf')]"
   ]
  },
  {
   "cell_type": "code",
   "execution_count": 21,
   "metadata": {},
   "outputs": [
    {
     "data": {
      "text/plain": [
       "(768,)"
      ]
     },
     "execution_count": 21,
     "metadata": {},
     "output_type": "execute_result"
    }
   ],
   "source": [
    "abstract_df.embeddings.values[0].shape"
   ]
  },
  {
   "cell_type": "markdown",
   "metadata": {},
   "source": [
    "## Umap 2d embeddings"
   ]
  },
  {
   "cell_type": "markdown",
   "metadata": {},
   "source": [
    "(Note: For `ColumnOrientedMapping` see [Column-oriented DBMS](https://en.wikipedia.org/wiki/Column-oriented_DBMS). It's overkill here, but wanted to try it out.)"
   ]
  },
  {
   "cell_type": "code",
   "execution_count": 3,
   "metadata": {},
   "outputs": [],
   "source": [
    "import pickle, json, os\n",
    "from dol import PickleFiles, JsonFiles  # TODO: make PickleFiles work\n",
    "from py2store import PickleStore\n",
    "\n",
    "pkl_store = PickleStore(os.path.expanduser('~/tmp/'))"
   ]
  },
  {
   "cell_type": "markdown",
   "metadata": {},
   "source": [
    "### Make and save umap embeddings"
   ]
  },
  {
   "cell_type": "code",
   "execution_count": null,
   "metadata": {},
   "outputs": [],
   "source": [
    "kind = 'titles'  # 'titles' or 'abstracts'"
   ]
  },
  {
   "cell_type": "code",
   "execution_count": 1,
   "metadata": {},
   "outputs": [
    {
     "data": {
      "text/plain": [
       "['title', 'embeddings', 'doi']"
      ]
     },
     "execution_count": 1,
     "metadata": {},
     "output_type": "execute_result"
    }
   ],
   "source": [
    "from xv import sources \n",
    "from tabled import ColumnOrientedMapping\n",
    "\n",
    "import numpy as np\n",
    "\n",
    "tables = sources[kind]\n",
    "tables_merge = ColumnOrientedMapping(tables)\n",
    "list(tables_merge)"
   ]
  },
  {
   "cell_type": "code",
   "execution_count": null,
   "metadata": {},
   "outputs": [],
   "source": [
    "# Note: In the following, we lighten up heavy variables as soon as we're finished with them.\n",
    "# Doing this because got a lot of \"kernel died\" errors, and I'm guessing it's because of memory issues.\n",
    "# Note: Perhaps running this in as a python script (rather than in a notebook) would help too.\n",
    "\n",
    "embeddings_array = np.vstack(tables_merge['embeddings'])\n",
    "print(f\"{embeddings_array.shape=}\")\n",
    "del tables_merge\n",
    "del tables\n",
    "\n",
    "import umap  # pip install umap-learn\n",
    "reducer = umap.UMAP()\n",
    "planar_embedding = reducer.fit_transform(embeddings_array)\n",
    "del reducer\n",
    "print(f\"{planar_embedding.shape=}\")\n",
    "\n",
    "pkl_store[f'arxiv-{kind}-2d-embedding.pkl'] = planar_embedding"
   ]
  },
  {
   "cell_type": "markdown",
   "metadata": {},
   "source": [
    "### Make csvs with umap embeddings and info"
   ]
  },
  {
   "cell_type": "code",
   "execution_count": 4,
   "metadata": {},
   "outputs": [],
   "source": [
    "save_dir = os.path.expanduser('~/tmp/')"
   ]
  },
  {
   "cell_type": "code",
   "execution_count": 7,
   "metadata": {},
   "outputs": [],
   "source": [
    "from py2store import PickleStore\n",
    "import os\n",
    "\n",
    "def tables_without_embeddings(tables):\n",
    "    for d in tables.values():\n",
    "        del d['embeddings']\n",
    "        yield d\n",
    "    \n",
    "import pandas as pd\n",
    "\n",
    "# for kind in ['titles']:\n",
    "for kind in ['abstracts']:\n",
    "# for kind in ['titles', 'abstracts']:\n",
    "    tables = sources[kind]\n",
    "    df = pd.concat(tables_without_embeddings(tables), axis=0)\n",
    "    df['id'] = range(len(df)) # an id column is needed for cosmograph\n",
    "\n",
    "    p = PickleStore(os.path.expanduser('~/tmp/'))\n",
    "    planar_embedding = p[f'arxiv-{kind}-2d-embedding.pkl']\n",
    "\n",
    "    df['x'] = planar_embedding[:, 0]\n",
    "    df['y'] = planar_embedding[:, 1]\n",
    "\n",
    "    save_filepath = os.path.join(save_dir, f'arxiv-{kind}-2d-embedding.csv')\n",
    "    df.to_csv(save_filepath)"
   ]
  },
  {
   "cell_type": "code",
   "execution_count": 26,
   "metadata": {},
   "outputs": [
    {
     "name": "stderr",
     "output_type": "stream",
     "text": [
      "/var/folders/s0/6rhqzsnx0lxbjs8r5rhld9km0000gn/T/ipykernel_2790/1949567189.py:3: DtypeWarning: Columns (2) have mixed types. Specify dtype option on import or set low_memory=False.\n",
      "  a = pd.read_csv(os.path.join(save_dir, f'arxiv-abstracts-2d-embedding.csv'), index_col=0)\n",
      "/var/folders/s0/6rhqzsnx0lxbjs8r5rhld9km0000gn/T/ipykernel_2790/1949567189.py:4: DtypeWarning: Columns (2) have mixed types. Specify dtype option on import or set low_memory=False.\n",
      "  t = pd.read_csv(os.path.join(save_dir, f'arxiv-titles-2d-embedding.csv'), index_col=0)\n"
     ]
    }
   ],
   "source": [
    "# abstracts embedding, with titles columns, but not abstracts (too heavy!!)\n",
    "\n",
    "a = pd.read_csv(os.path.join(save_dir, f'arxiv-abstracts-2d-embedding.csv'), index_col=0)\n",
    "t = pd.read_csv(os.path.join(save_dir, f'arxiv-titles-2d-embedding.csv'), index_col=0)\n",
    "\n",
    "df = a.merge(t[['doi', 'title']], how='inner', on='doi')\n",
    "del df['abstract']\n",
    "save_filepath = os.path.join(save_dir, f'arxiv-abstracts-2d-embedding-without-abstracts.csv')\n",
    "df.to_csv(save_filepath)\n"
   ]
  },
  {
   "cell_type": "code",
   "execution_count": 27,
   "metadata": {},
   "outputs": [
    {
     "name": "stderr",
     "output_type": "stream",
     "text": [
      "/var/folders/s0/6rhqzsnx0lxbjs8r5rhld9km0000gn/T/ipykernel_2790/2317137206.py:6: DtypeWarning: Columns (1) have mixed types. Specify dtype option on import or set low_memory=False.\n",
      "  df = pd.read_csv(data_path, index_col=0)\n"
     ]
    }
   ],
   "source": [
    "# Splitting the csv into two parts\n",
    "\n",
    "data_path = os.path.join(save_dir, f'arxiv-abstracts-2d-embedding-without-abstracts.csv')\n",
    "midpoint = 1_000_000\n",
    "\n",
    "df = pd.read_csv(data_path, index_col=0)\n",
    "df_part = df.iloc[:1_000_000]\n",
    "df_part.to_csv(data_path.replace('.csv', f'<{midpoint}.csv'))\n",
    "df_part = df.iloc[1_000_000:]\n",
    "df_part.to_csv(data_path.replace('.csv', f'>{midpoint}.csv'))"
   ]
  },
  {
   "cell_type": "code",
   "execution_count": 23,
   "metadata": {},
   "outputs": [
    {
     "name": "stderr",
     "output_type": "stream",
     "text": [
      "/var/folders/s0/6rhqzsnx0lxbjs8r5rhld9km0000gn/T/ipykernel_2790/2239995952.py:3: DtypeWarning: Columns (2) have mixed types. Specify dtype option on import or set low_memory=False.\n",
      "  a = pd.read_csv(os.path.join(save_dir, f'arxiv-abstracts-2d-embedding.csv'), index_col=0)\n",
      "/var/folders/s0/6rhqzsnx0lxbjs8r5rhld9km0000gn/T/ipykernel_2790/2239995952.py:4: DtypeWarning: Columns (2) have mixed types. Specify dtype option on import or set low_memory=False.\n",
      "  t = pd.read_csv(os.path.join(save_dir, f'arxiv-titles-2d-embedding.csv'), index_col=0)\n"
     ]
    }
   ],
   "source": [
    "# More (BIG ONES!!) \n",
    "\n",
    "a = pd.read_csv(os.path.join(save_dir, f'arxiv-abstracts-2d-embedding.csv'), index_col=0)\n",
    "t = pd.read_csv(os.path.join(save_dir, f'arxiv-titles-2d-embedding.csv'), index_col=0)\n",
    "\n",
    "# title embeddings, with abstract field\n",
    "df = t.merge(a[['doi', 'abstract']], how='inner', on='doi')\n",
    "t_save_filepath = os.path.join(save_dir, f'arxiv-titles-2d-embedding-with-abstracts.csv')\n",
    "df.to_csv(t_save_filepath)\n",
    "\n",
    "# abstract embeddings, with title field\n",
    "df = a.merge(t[['doi', 'title']], how='inner', on='doi')\n",
    "a_save_filepath = os.path.join(save_dir, f'arxiv-abstracts-2d-embedding-with-titles.csv')\n",
    "df.to_csv(a_save_filepath)"
   ]
  },
  {
   "cell_type": "markdown",
   "metadata": {},
   "source": [
    "## Langchain"
   ]
  },
  {
   "cell_type": "code",
   "execution_count": 25,
   "metadata": {},
   "outputs": [],
   "source": [
    "from langchain.embeddings.openai import OpenAIEmbeddings\n",
    "from langchain.schema import Document\n",
    "from langchain_community.vectorstores import Chroma\n",
    "\n",
    "# embeddings = OpenAIEmbeddings()"
   ]
  },
  {
   "cell_type": "code",
   "execution_count": 26,
   "metadata": {},
   "outputs": [
    {
     "name": "stdout",
     "output_type": "stream",
     "text": [
      "1 2 3 4 5 6 7 8 9 10 11 12 13 14 15 16 17 18 19 20 21 22 23\n"
     ]
    }
   ],
   "source": [
    "from imbed.mdat.arxiv import sources\n",
    "\n",
    "tables = sources['abstracts']\n",
    "print(*tables)"
   ]
  },
  {
   "cell_type": "code",
   "execution_count": 29,
   "metadata": {},
   "outputs": [],
   "source": [
    "table = next(iter(tables.values()))\n",
    "\n",
    "from langchain.schema import Document\n",
    "from itertools import repeat\n",
    "# make a langchain docs iterable\n",
    "\n",
    "\n",
    "class LangchainDocs:\n",
    "    def __init__(self, texts, metadatas=None):\n",
    "        self.texts = texts\n",
    "        self.metadatas = metadatas #or repeat({})  # same dict for all: TODO: change\n",
    "\n",
    "    def __iter__(self):\n",
    "        if self.metadatas is None:\n",
    "            return (Document(page_content=text) for text in self.texts)\n",
    "        else:\n",
    "            return (\n",
    "                Document(page_content=text, metadata=meta) \n",
    "                for text, meta in zip(self.texts, self.metadatas)\n",
    "            )\n",
    "        \n",
    "\n",
    "docs = LangchainDocs(\n",
    "    table['abstract'].values, \n",
    "    ({'doi': doi} for doi in table['doi'].iloc[:1000].values)\n",
    ")"
   ]
  },
  {
   "cell_type": "code",
   "execution_count": 7,
   "metadata": {},
   "outputs": [],
   "source": [
    "vectorstore = Chroma.from_documents(docs, embeddings)\n",
    "# 1m02 for 10000 docs"
   ]
  },
  {
   "cell_type": "code",
   "execution_count": 31,
   "metadata": {},
   "outputs": [
    {
     "name": "stdout",
     "output_type": "stream",
     "text": [
      "Help on method from_documents in module langchain_community.vectorstores.chroma:\n",
      "\n",
      "from_documents(documents: 'List[Document]', embedding: 'Optional[Embeddings]' = None, ids: 'Optional[List[str]]' = None, collection_name: 'str' = 'langchain', persist_directory: 'Optional[str]' = None, client_settings: 'Optional[chromadb.config.Settings]' = None, client: 'Optional[chromadb.Client]' = None, collection_metadata: 'Optional[Dict]' = None, **kwargs: 'Any') -> 'Chroma' method of abc.ABCMeta instance\n",
      "    Create a Chroma vectorstore from a list of documents.\n",
      "    \n",
      "    If a persist_directory is specified, the collection will be persisted there.\n",
      "    Otherwise, the data will be ephemeral in-memory.\n",
      "    \n",
      "    Args:\n",
      "        collection_name (str): Name of the collection to create.\n",
      "        persist_directory (Optional[str]): Directory to persist the collection.\n",
      "        ids (Optional[List[str]]): List of document IDs. Defaults to None.\n",
      "        documents (List[Document]): List of documents to add to the vectorstore.\n",
      "        embedding (Optional[Embeddings]): Embedding function. Defaults to None.\n",
      "        client_settings (Optional[chromadb.config.Settings]): Chroma client settings\n",
      "        collection_metadata (Optional[Dict]): Collection configurations.\n",
      "                                              Defaults to None.\n",
      "    \n",
      "    Returns:\n",
      "        Chroma: Chroma vectorstore.\n",
      "\n"
     ]
    }
   ],
   "source": [
    "help(Chroma.from_documents)"
   ]
  },
  {
   "cell_type": "code",
   "execution_count": 20,
   "metadata": {},
   "outputs": [
    {
     "data": {
      "text/plain": [
       "4"
      ]
     },
     "execution_count": 20,
     "metadata": {},
     "output_type": "execute_result"
    }
   ],
   "source": [
    "r = vectorstore.similarity_search('similarity search')\n",
    "len(r)"
   ]
  },
  {
   "cell_type": "code",
   "execution_count": null,
   "metadata": {},
   "outputs": [],
   "source": []
  },
  {
   "cell_type": "code",
   "execution_count": 24,
   "metadata": {},
   "outputs": [
    {
     "data": {
      "text/plain": [
       "Document(page_content='  Modern text retrieval systems often provide a similarity search utility, that\\nallows the user to find efficiently a fixed number k of documents in the data\\nset that are most similar to a given query (here a query is either a simple\\nsequence of keywords or the identifier of a full document found in previous\\nsearches that is considered of interest). We consider the case of a textual\\ndatabase made of semi-structured documents. Each field, in turns, is modelled\\nwith a specific vector space. The problem is more complex when we also allow\\neach such vector space to have an associated user-defined dynamic weight that\\ninfluences its contribution to the overall dynamic aggregated and weighted\\nsimilarity. This dynamic problem has been tackled in a recent paper by\\nSingitham et al. in in VLDB 2004. Their proposed solution, which we take as\\nbaseline, is a variant of the cluster-pruning technique that has the potential\\nfor scaling to very large corpora of documents, and is far more efficient than\\nthe naive exhaustive search. We devise an alternative way of embedding weights\\nin the data structure, coupled with a non-trivial application of a clustering\\nalgorithm based on the furthest point first heuristic for the metric k-center\\nproblem. The validity of our approach is demonstrated experimentally by showing\\nsignificant performance improvements over the scheme proposed in Singitham et\\nal. in VLDB 2004. We improve significantly tradeoffs between query time and\\noutput quality with respect to the baseline method in Singitham et al. in in\\nVLDB 2004, and also with respect to a novel method by Chierichetti et al. to\\nappear in ACM PODS 2007. We also speed up the pre-processing time by a factor\\nat least thirty.\\n')"
      ]
     },
     "execution_count": 24,
     "metadata": {},
     "output_type": "execute_result"
    }
   ],
   "source": [
    "r[0]"
   ]
  },
  {
   "cell_type": "code",
   "execution_count": 28,
   "metadata": {},
   "outputs": [
    {
     "name": "stdout",
     "output_type": "stream",
     "text": [
      "  Modern text retrieval systems often provide a similarity search utility, that\n",
      "allows the user to find efficiently a fixed number k of documents in the data\n",
      "set that are most similar to a given query (here a query is either a simple\n",
      "sequence of keywords or the identifier of a full document found in previous\n",
      "searches that is considered of interest). We consider the case of a textual\n",
      "database made of semi-structured documents. Each field, in turns, is modelled\n",
      "with a specific vector space. The problem is more complex when we also allow\n",
      "each such vector space to have an associated user-defined dynamic weight that\n",
      "influences its contribution to the overall dynamic aggregated and weighted\n",
      "similarity. This dynamic problem has been tackled in a recent paper by\n",
      "Singitham et al. in in VLDB 2004. Their proposed solution, which we take as\n",
      "baseline, is a variant of the cluster-pruning technique that has the potential\n",
      "for scaling to very large corpora of documents, and is far more efficient than\n",
      "the naive exhaustive search. We devise an alternative way of embedding weights\n",
      "in the data structure, coupled with a non-trivial application of a clustering\n",
      "algorithm based on the furthest point first heuristic for the metric k-center\n",
      "problem. The validity of our approach is demonstrated experimentally by showing\n",
      "significant performance improvements over the scheme proposed in Singitham et\n",
      "al. in VLDB 2004. We improve significantly tradeoffs between query time and\n",
      "output quality with respect to the baseline method in Singitham et al. in in\n",
      "VLDB 2004, and also with respect to a novel method by Chierichetti et al. to\n",
      "appear in ACM PODS 2007. We also speed up the pre-processing time by a factor\n",
      "at least thirty.\n",
      "\n"
     ]
    }
   ],
   "source": [
    "print(r[0].page_content)"
   ]
  },
  {
   "cell_type": "code",
   "execution_count": null,
   "metadata": {},
   "outputs": [],
   "source": []
  },
  {
   "cell_type": "code",
   "execution_count": null,
   "metadata": {},
   "outputs": [],
   "source": []
  },
  {
   "cell_type": "code",
   "execution_count": null,
   "metadata": {},
   "outputs": [],
   "source": []
  },
  {
   "cell_type": "code",
   "execution_count": 64,
   "metadata": {},
   "outputs": [
    {
     "ename": "ValueError",
     "evalue": "dictionary update sequence element #0 has length 1; 2 is required",
     "output_type": "error",
     "traceback": [
      "\u001b[0;31m---------------------------------------------------------------------------\u001b[0m",
      "\u001b[0;31mValueError\u001b[0m                                Traceback (most recent call last)",
      "Cell \u001b[0;32mIn[64], line 27\u001b[0m\n\u001b[1;32m      5\u001b[0m \u001b[38;5;66;03m# metadata_field_info = [\u001b[39;00m\n\u001b[1;32m      6\u001b[0m \u001b[38;5;66;03m#     AttributeInfo(\u001b[39;00m\n\u001b[1;32m      7\u001b[0m \u001b[38;5;66;03m#         name=\"genre\",\u001b[39;00m\n\u001b[0;32m   (...)\u001b[0m\n\u001b[1;32m     24\u001b[0m \u001b[38;5;66;03m# ]\u001b[39;00m\n\u001b[1;32m     25\u001b[0m \u001b[38;5;66;03m# document_content_description = \"Brief summary of a movie\"\u001b[39;00m\n\u001b[1;32m     26\u001b[0m llm \u001b[38;5;241m=\u001b[39m OpenAI(temperature\u001b[38;5;241m=\u001b[39m\u001b[38;5;241m0\u001b[39m)\n\u001b[0;32m---> 27\u001b[0m retriever \u001b[38;5;241m=\u001b[39m \u001b[43mSelfQueryRetriever\u001b[49m\u001b[38;5;241;43m.\u001b[39;49m\u001b[43mfrom_llm\u001b[49m\u001b[43m(\u001b[49m\n\u001b[1;32m     28\u001b[0m \u001b[43m    \u001b[49m\u001b[43mllm\u001b[49m\u001b[43m,\u001b[49m\u001b[43m \u001b[49m\u001b[43mvectorstore\u001b[49m\u001b[43m,\u001b[49m\u001b[43m \u001b[49m\u001b[38;5;124;43m'\u001b[39;49m\u001b[38;5;124;43mpage_content\u001b[39;49m\u001b[38;5;124;43m'\u001b[39;49m\u001b[43m,\u001b[49m\u001b[43m \u001b[49m\u001b[38;5;124;43m'\u001b[39;49m\u001b[38;5;124;43mmetadata\u001b[39;49m\u001b[38;5;124;43m'\u001b[39;49m\u001b[43m,\u001b[49m\u001b[43m \u001b[49m\u001b[43mverbose\u001b[49m\u001b[38;5;241;43m=\u001b[39;49m\u001b[38;5;28;43;01mTrue\u001b[39;49;00m\n\u001b[1;32m     29\u001b[0m \u001b[43m)\u001b[49m\n",
      "File \u001b[0;32m~/.pyenv/versions/3.10.8/lib/python3.10/site-packages/langchain/retrievers/self_query/base.py:225\u001b[0m, in \u001b[0;36mSelfQueryRetriever.from_llm\u001b[0;34m(cls, llm, vectorstore, document_contents, metadata_field_info, structured_query_translator, chain_kwargs, enable_limit, use_original_query, **kwargs)\u001b[0m\n\u001b[1;32m    218\u001b[0m \u001b[38;5;28;01mif\u001b[39;00m (\n\u001b[1;32m    219\u001b[0m     \u001b[38;5;124m\"\u001b[39m\u001b[38;5;124mallowed_operators\u001b[39m\u001b[38;5;124m\"\u001b[39m \u001b[38;5;129;01mnot\u001b[39;00m \u001b[38;5;129;01min\u001b[39;00m chain_kwargs\n\u001b[1;32m    220\u001b[0m     \u001b[38;5;129;01mand\u001b[39;00m structured_query_translator\u001b[38;5;241m.\u001b[39mallowed_operators \u001b[38;5;129;01mis\u001b[39;00m \u001b[38;5;129;01mnot\u001b[39;00m \u001b[38;5;28;01mNone\u001b[39;00m\n\u001b[1;32m    221\u001b[0m ):\n\u001b[1;32m    222\u001b[0m     chain_kwargs[\n\u001b[1;32m    223\u001b[0m         \u001b[38;5;124m\"\u001b[39m\u001b[38;5;124mallowed_operators\u001b[39m\u001b[38;5;124m\"\u001b[39m\n\u001b[1;32m    224\u001b[0m     ] \u001b[38;5;241m=\u001b[39m structured_query_translator\u001b[38;5;241m.\u001b[39mallowed_operators\n\u001b[0;32m--> 225\u001b[0m query_constructor \u001b[38;5;241m=\u001b[39m \u001b[43mload_query_constructor_runnable\u001b[49m\u001b[43m(\u001b[49m\n\u001b[1;32m    226\u001b[0m \u001b[43m    \u001b[49m\u001b[43mllm\u001b[49m\u001b[43m,\u001b[49m\n\u001b[1;32m    227\u001b[0m \u001b[43m    \u001b[49m\u001b[43mdocument_contents\u001b[49m\u001b[43m,\u001b[49m\n\u001b[1;32m    228\u001b[0m \u001b[43m    \u001b[49m\u001b[43mmetadata_field_info\u001b[49m\u001b[43m,\u001b[49m\n\u001b[1;32m    229\u001b[0m \u001b[43m    \u001b[49m\u001b[43menable_limit\u001b[49m\u001b[38;5;241;43m=\u001b[39;49m\u001b[43menable_limit\u001b[49m\u001b[43m,\u001b[49m\n\u001b[1;32m    230\u001b[0m \u001b[43m    \u001b[49m\u001b[38;5;241;43m*\u001b[39;49m\u001b[38;5;241;43m*\u001b[39;49m\u001b[43mchain_kwargs\u001b[49m\u001b[43m,\u001b[49m\n\u001b[1;32m    231\u001b[0m \u001b[43m\u001b[49m\u001b[43m)\u001b[49m\n\u001b[1;32m    232\u001b[0m \u001b[38;5;28;01mreturn\u001b[39;00m \u001b[38;5;28mcls\u001b[39m(\n\u001b[1;32m    233\u001b[0m     query_constructor\u001b[38;5;241m=\u001b[39mquery_constructor,\n\u001b[1;32m    234\u001b[0m     vectorstore\u001b[38;5;241m=\u001b[39mvectorstore,\n\u001b[0;32m   (...)\u001b[0m\n\u001b[1;32m    237\u001b[0m     \u001b[38;5;241m*\u001b[39m\u001b[38;5;241m*\u001b[39mkwargs,\n\u001b[1;32m    238\u001b[0m )\n",
      "File \u001b[0;32m~/.pyenv/versions/3.10.8/lib/python3.10/site-packages/langchain/chains/query_constructor/base.py:342\u001b[0m, in \u001b[0;36mload_query_constructor_runnable\u001b[0;34m(llm, document_contents, attribute_info, examples, allowed_comparators, allowed_operators, enable_limit, schema_prompt, fix_invalid, **kwargs)\u001b[0m\n\u001b[1;32m    309\u001b[0m \u001b[38;5;28;01mdef\u001b[39;00m \u001b[38;5;21mload_query_constructor_runnable\u001b[39m(\n\u001b[1;32m    310\u001b[0m     llm: BaseLanguageModel,\n\u001b[1;32m    311\u001b[0m     document_contents: \u001b[38;5;28mstr\u001b[39m,\n\u001b[0;32m   (...)\u001b[0m\n\u001b[1;32m    320\u001b[0m     \u001b[38;5;241m*\u001b[39m\u001b[38;5;241m*\u001b[39mkwargs: Any,\n\u001b[1;32m    321\u001b[0m ) \u001b[38;5;241m-\u001b[39m\u001b[38;5;241m>\u001b[39m Runnable:\n\u001b[1;32m    322\u001b[0m     \u001b[38;5;124;03m\"\"\"Load a query constructor runnable chain.\u001b[39;00m\n\u001b[1;32m    323\u001b[0m \n\u001b[1;32m    324\u001b[0m \u001b[38;5;124;03m    Args:\u001b[39;00m\n\u001b[0;32m   (...)\u001b[0m\n\u001b[1;32m    340\u001b[0m \u001b[38;5;124;03m        A Runnable that can be used to construct queries.\u001b[39;00m\n\u001b[1;32m    341\u001b[0m \u001b[38;5;124;03m    \"\"\"\u001b[39;00m\n\u001b[0;32m--> 342\u001b[0m     prompt \u001b[38;5;241m=\u001b[39m \u001b[43mget_query_constructor_prompt\u001b[49m\u001b[43m(\u001b[49m\n\u001b[1;32m    343\u001b[0m \u001b[43m        \u001b[49m\u001b[43mdocument_contents\u001b[49m\u001b[43m,\u001b[49m\n\u001b[1;32m    344\u001b[0m \u001b[43m        \u001b[49m\u001b[43mattribute_info\u001b[49m\u001b[43m,\u001b[49m\n\u001b[1;32m    345\u001b[0m \u001b[43m        \u001b[49m\u001b[43mexamples\u001b[49m\u001b[38;5;241;43m=\u001b[39;49m\u001b[43mexamples\u001b[49m\u001b[43m,\u001b[49m\n\u001b[1;32m    346\u001b[0m \u001b[43m        \u001b[49m\u001b[43mallowed_comparators\u001b[49m\u001b[38;5;241;43m=\u001b[39;49m\u001b[43mallowed_comparators\u001b[49m\u001b[43m,\u001b[49m\n\u001b[1;32m    347\u001b[0m \u001b[43m        \u001b[49m\u001b[43mallowed_operators\u001b[49m\u001b[38;5;241;43m=\u001b[39;49m\u001b[43mallowed_operators\u001b[49m\u001b[43m,\u001b[49m\n\u001b[1;32m    348\u001b[0m \u001b[43m        \u001b[49m\u001b[43menable_limit\u001b[49m\u001b[38;5;241;43m=\u001b[39;49m\u001b[43menable_limit\u001b[49m\u001b[43m,\u001b[49m\n\u001b[1;32m    349\u001b[0m \u001b[43m        \u001b[49m\u001b[43mschema_prompt\u001b[49m\u001b[38;5;241;43m=\u001b[39;49m\u001b[43mschema_prompt\u001b[49m\u001b[43m,\u001b[49m\n\u001b[1;32m    350\u001b[0m \u001b[43m        \u001b[49m\u001b[38;5;241;43m*\u001b[39;49m\u001b[38;5;241;43m*\u001b[39;49m\u001b[43mkwargs\u001b[49m\u001b[43m,\u001b[49m\n\u001b[1;32m    351\u001b[0m \u001b[43m    \u001b[49m\u001b[43m)\u001b[49m\n\u001b[1;32m    352\u001b[0m     allowed_attributes \u001b[38;5;241m=\u001b[39m []\n\u001b[1;32m    353\u001b[0m     \u001b[38;5;28;01mfor\u001b[39;00m ainfo \u001b[38;5;129;01min\u001b[39;00m attribute_info:\n",
      "File \u001b[0;32m~/.pyenv/versions/3.10.8/lib/python3.10/site-packages/langchain/chains/query_constructor/base.py:225\u001b[0m, in \u001b[0;36mget_query_constructor_prompt\u001b[0;34m(document_contents, attribute_info, examples, allowed_comparators, allowed_operators, enable_limit, schema_prompt, **kwargs)\u001b[0m\n\u001b[1;32m    221\u001b[0m default_schema_prompt \u001b[38;5;241m=\u001b[39m (\n\u001b[1;32m    222\u001b[0m     SCHEMA_WITH_LIMIT_PROMPT \u001b[38;5;28;01mif\u001b[39;00m enable_limit \u001b[38;5;28;01melse\u001b[39;00m DEFAULT_SCHEMA_PROMPT\n\u001b[1;32m    223\u001b[0m )\n\u001b[1;32m    224\u001b[0m schema_prompt \u001b[38;5;241m=\u001b[39m schema_prompt \u001b[38;5;129;01mor\u001b[39;00m default_schema_prompt\n\u001b[0;32m--> 225\u001b[0m attribute_str \u001b[38;5;241m=\u001b[39m \u001b[43m_format_attribute_info\u001b[49m\u001b[43m(\u001b[49m\u001b[43mattribute_info\u001b[49m\u001b[43m)\u001b[49m\n\u001b[1;32m    226\u001b[0m schema \u001b[38;5;241m=\u001b[39m schema_prompt\u001b[38;5;241m.\u001b[39mformat(\n\u001b[1;32m    227\u001b[0m     allowed_comparators\u001b[38;5;241m=\u001b[39m\u001b[38;5;124m\"\u001b[39m\u001b[38;5;124m | \u001b[39m\u001b[38;5;124m\"\u001b[39m\u001b[38;5;241m.\u001b[39mjoin(allowed_comparators),\n\u001b[1;32m    228\u001b[0m     allowed_operators\u001b[38;5;241m=\u001b[39m\u001b[38;5;124m\"\u001b[39m\u001b[38;5;124m | \u001b[39m\u001b[38;5;124m\"\u001b[39m\u001b[38;5;241m.\u001b[39mjoin(allowed_operators),\n\u001b[1;32m    229\u001b[0m )\n\u001b[1;32m    230\u001b[0m \u001b[38;5;28;01mif\u001b[39;00m examples \u001b[38;5;129;01mand\u001b[39;00m \u001b[38;5;28misinstance\u001b[39m(examples[\u001b[38;5;241m0\u001b[39m], \u001b[38;5;28mtuple\u001b[39m):\n",
      "File \u001b[0;32m~/.pyenv/versions/3.10.8/lib/python3.10/site-packages/langchain/chains/query_constructor/base.py:165\u001b[0m, in \u001b[0;36m_format_attribute_info\u001b[0;34m(info)\u001b[0m\n\u001b[1;32m    163\u001b[0m info_dicts \u001b[38;5;241m=\u001b[39m {}\n\u001b[1;32m    164\u001b[0m \u001b[38;5;28;01mfor\u001b[39;00m i \u001b[38;5;129;01min\u001b[39;00m info:\n\u001b[0;32m--> 165\u001b[0m     i_dict \u001b[38;5;241m=\u001b[39m \u001b[38;5;28;43mdict\u001b[39;49m\u001b[43m(\u001b[49m\u001b[43mi\u001b[49m\u001b[43m)\u001b[49m\n\u001b[1;32m    166\u001b[0m     info_dicts[i_dict\u001b[38;5;241m.\u001b[39mpop(\u001b[38;5;124m\"\u001b[39m\u001b[38;5;124mname\u001b[39m\u001b[38;5;124m\"\u001b[39m)] \u001b[38;5;241m=\u001b[39m i_dict\n\u001b[1;32m    167\u001b[0m \u001b[38;5;28;01mreturn\u001b[39;00m json\u001b[38;5;241m.\u001b[39mdumps(info_dicts, indent\u001b[38;5;241m=\u001b[39m\u001b[38;5;241m4\u001b[39m)\u001b[38;5;241m.\u001b[39mreplace(\u001b[38;5;124m\"\u001b[39m\u001b[38;5;124m{\u001b[39m\u001b[38;5;124m\"\u001b[39m, \u001b[38;5;124m\"\u001b[39m\u001b[38;5;124m{{\u001b[39m\u001b[38;5;124m\"\u001b[39m)\u001b[38;5;241m.\u001b[39mreplace(\u001b[38;5;124m\"\u001b[39m\u001b[38;5;124m}\u001b[39m\u001b[38;5;124m\"\u001b[39m, \u001b[38;5;124m\"\u001b[39m\u001b[38;5;124m}}\u001b[39m\u001b[38;5;124m\"\u001b[39m)\n",
      "\u001b[0;31mValueError\u001b[0m: dictionary update sequence element #0 has length 1; 2 is required"
     ]
    }
   ],
   "source": [
    "from langchain.chains.query_constructor.base import AttributeInfo\n",
    "from langchain.llms import OpenAI\n",
    "from langchain.retrievers.self_query.base import SelfQueryRetriever\n",
    "\n",
    "# metadata_field_info = [\n",
    "#     AttributeInfo(\n",
    "#         name=\"genre\",\n",
    "#         description=\"The genre of the movie\",\n",
    "#         type=\"string or list[string]\",\n",
    "#     ),\n",
    "#     AttributeInfo(\n",
    "#         name=\"year\",\n",
    "#         description=\"The year the movie was released\",\n",
    "#         type=\"integer\",\n",
    "#     ),\n",
    "#     AttributeInfo(\n",
    "#         name=\"director\",\n",
    "#         description=\"The name of the movie director\",\n",
    "#         type=\"string\",\n",
    "#     ),\n",
    "#     AttributeInfo(\n",
    "#         name=\"rating\", description=\"A 1-10 rating for the movie\", type=\"float\"\n",
    "#     ),\n",
    "# ]\n",
    "# document_content_description = \"Brief summary of a movie\"\n",
    "llm = OpenAI(temperature=0)\n",
    "# retriever = SelfQueryRetriever.from_llm(\n",
    "#     llm, vectorstore, 'page_content', 'metadata', verbose=True\n",
    "# )\n"
   ]
  },
  {
   "cell_type": "code",
   "execution_count": null,
   "metadata": {},
   "outputs": [],
   "source": []
  },
  {
   "cell_type": "markdown",
   "metadata": {},
   "source": [
    "# Scrap"
   ]
  },
  {
   "cell_type": "code",
   "execution_count": 100,
   "metadata": {},
   "outputs": [
    {
     "data": {
      "text/plain": [
       "247250"
      ]
     },
     "execution_count": 100,
     "metadata": {},
     "output_type": "execute_result"
    }
   ],
   "source": [
    "filepath = '/Users/thorwhalen/Dropbox/_odata/ai/citation-network-2023nov/publications.tsv.embeddings.txt'\n",
    "with open(filepath, 'rt', encoding='latin-1') as f:\n",
    "    raw = f.read()\n",
    "\n",
    "lines_ = raw.splitlines()\n",
    "len(lines_)"
   ]
  },
  {
   "cell_type": "code",
   "execution_count": 37,
   "metadata": {},
   "outputs": [
    {
     "data": {
      "text/plain": [
       "\"108\\tRothko's Negative Theology\\t[-0.01767713762819767,-0.014015327207744122,0.018713777884840965,-0.06526758521795273,-0.06311167776584625,0.03833527863025665,-0.04972343519330025,-0.018341142684221268,-0.021972984075546265,-0.010409621521830559,0.0077117979526519775,0.04775700718164444,-0.061216484755277634,-0.07922491431236267,-0.008680934086441994,0.027073035016655922,0.012788832187652588,-0.06010663881897926,-0.047089748084545135,-0.037546414881944656,0.05138528719544411,0.005652355030179024,-0.005714821629226208,0.057281941175460815,0.011942300014197826,-0.042955778539180756,0.005935613997280598,0.006200440693646669,-0.03633429855108261,-0.03254585340619087,0.005020080134272575,-0.018121853470802307,0.06094178184866905,0.044179726392030716,0.005303225014358759,-9.475155820837244e-05,-0.03639042004942894,-0.030132601037621498,0.042899344116449356,-0.0186415184289217,-0.011177537962794304,0.026714988052845,0.01750640943646431,0.012784230522811413,0.0733458548784256,0.06031135097146034,0.0017476637149229646,-0.018612544983625412,0.009702684357762337,-9.034006507135928e-05,-0.006174213252961636,-0.03204239159822464,0.021777907386422157,-0.013202108442783356,0.00951547734439373,-0.05888622999191284,-0.026346759870648384,0.01861324906349182,-0.01534647773951292,0.04066326096653938,-0.062068793922662735,0.01635597087442875,-0.034312330186367035,-0.006762825418263674,0.04142255336046219,0.08338836580514908,0.07066391408443451,-0.0034001192543655634,-0.0004925208049826324,0.009061064571142197,-0.03041064739227295,0.008621158078312874,-0.009786685928702354,-0.004718792624771595,-0.03519253060221672,0.02598949708044529,0.039096686989068985,-0.007528810761868954,0.04007834196090698,-0.04657215625047684,-0.06852972507476807,0.00504032988101244,-0.007453706115484238,0.025405893102288246,-0.02604234777390957,-0.00805185828357935,0.03034381754696369,0.059716567397117615,0.08582811057567596,0.11840013414621353,0.009456336498260498,-0.023270519450306892,0.0031163543462753296,0.01656719483435154,-0.023750504478812218,-0.014418678358197212,0.021650539711117744,-0.018185468390583992,-0.017538437619805336,-0.0561593733727932,-0.005511103197932243,0.030964555218815804,-0.005954131484031677,-0.021895935758948326,-0.04730184003710747,0.04856488108634949,0.0030625443905591965,0.07651827484369278,0.0671548992395401,0.06501831114292145,-0.034852564334869385,0.027954746037721634,-0.0009174447041004896,-0.04049604758620262,0.043773408979177475,-0.09757430851459503,0.03972215950489044,0.011020084843039513,-0.0157682653516531,-0.027265314012765884,0.02820509299635887,0.030335431918501854,0.013783585280179977,0.0226835235953331,-0.009367228485643864,0.09408179670572281,0.06251856684684753,-0.06934656202793121,-0.03157523274421692,-0.03954949229955673,0.018442437052726746,-0.055543672293424606,-0.0033380049280822277,-0.010709366761147976,0.05364067479968071,-0.0561608150601387,-0.0067241438664495945,-0.01724504679441452,-0.03257742151618004,-0.04131259769201279,0.043854791671037674,0.015514466911554337,0.009875800460577011,-0.051059409976005554,-0.026186535134911537,0.009913898073136806,-0.060349661856889725,-0.047447849065065384,0.037560198456048965,0.014154498465359211,-0.06578715145587921,-0.03156726434826851,0.0035358616150915623,-0.0238006804138422,0.03378215804696083,-0.02192562073469162,-0.031818438321352005,-0.028483610600233078,0.054708726704120636,-0.016678517684340477,0.035411275923252106,0.003466625465080142,-0.076076440513134,0.027368582785129547,-0.010496626608073711,0.010464990511536598,0.0031825806945562363,-0.014070202596485615,0.01977347768843174,-0.026425832882523537,0.015806881710886955,-0.02307773195207119,-0.013882998377084732,0.02272765524685383,0.04304958134889603,-0.0017136941896751523,-0.06452963501214981,0.04944591969251633,0.054280608892440796,0.037978023290634155,-0.014544286765158176,-0.0227950531989336,0.04705551266670227,0.031126582995057106,-0.026841381564736366,-0.0191201101988554,-0.06742775440216064,0.011300995945930481,-0.017664829269051552,0.04125057905912399,0.07252413779497147,-0.10486185550689697,0.002176491543650627,0.010368134826421738,-0.031474191695451736,0.018774304538965225,0.029686134308576584,0.1141093522310257,-0.0025554720778018236,-0.014640274457633495,-0.007898293435573578,0.007313532754778862,0.012399174273014069,0.0616883859038353,0.02662254124879837,0.014741726219654083,0.008821403607726097,-0.009945481084287167,0.019816242158412933,0.012298250570893288,0.011988475918769836,0.0593283548951149,-0.0033373648766428232,0.03931467607617378,-0.040163200348615646,0.038047078996896744,0.031643565744161606,-0.005051462445408106,-0.03737376257777214,0.02902200259268284,0.005118087399750948,0.05568492040038109,-0.006575001869350672,0.03449494391679764,0.03545448184013367,-0.032322708517313004,-0.020393624901771545,-0.03461229428648949,0.06485648453235626,0.007641511503607035,0.03307182341814041,-0.02024267055094242,0.002173178130760789,0.07696883380413055,-0.023144658654928207,-0.04272393882274628,-0.041702963411808014,-0.03150670602917671,-0.0347835011780262,2.8419026421033777e-05,0.0018094686092808843,-0.029583889991044998,-0.0035714327823370695,-0.02199285291135311,0.04892682284116745,0.04574736952781677,-0.00499378377571702,-0.0018195721786469221,0.00011784750677179545,-0.019583923742175102,-0.04422253742814064,-0.018299056217074394,0.06071002408862114,0.015291786752641201,-0.0024410029873251915,0.02722267434000969,-0.0009079526644200087,-0.013958570547401905,-0.01335839182138443,0.041185058653354645,-0.024047138169407845,-0.0319950096309185,-0.05858035385608673,-0.005396910011768341,-0.053644027560949326,-0.024210471659898758,0.012679318897426128,0.021581575274467468,0.06417979300022125,-0.03611481562256813,-0.027293456718325615,-0.007366019766777754,0.09307539463043213,-0.06956122815608978,0.02602030709385872,-0.009579929523169994,-0.012936830520629883,-0.02674991823732853,-0.05594255030155182,0.04660532996058464,-0.019929569214582443,-0.04458664357662201,0.01624566689133644,-0.04226292297244072,0.02805502340197563,-0.01438277866691351,0.021269982680678368,-0.037002209573984146,-0.00036519201239570975,-0.01762603223323822,0.03847974166274071,0.0372815802693367,-0.09261441230773926,0.04926927387714386,0.008820018731057644,-0.027620336040854454,0.0038919050712138414,-0.019282357767224312,0.04711519554257393,0.0001493409217800945,-0.04892178624868393,-0.0361596904695034,0.011098403483629227,-0.03801937401294708,-0.020252851769328117,0.00808571744710207,-0.04752252250909805,0.004273076541721821,0.023157533258199692,0.01982143335044384,-0.006174429319798946,-0.006977130193263292,0.0846843495965004,-0.031378623098134995,-0.0068534123711287975,0.05683685839176178,0.06407295912504196,-0.004821133799850941,-0.023831158876419067,-0.034072596579790115,0.014769002795219421,-0.03719993308186531,0.011613130569458008,-0.04383062198758125,0.06320672482252121,0.020269248634576797,0.05962621048092842,0.00854126363992691,0.044892389327287674,-0.01303497888147831,0.06230591610074043,0.03019724227488041,-0.03896982967853546,0.018338438123464584,0.036532506346702576,0.004641749896109104,-0.006104927510023117,-0.003356127068400383,0.03594681993126869,0.06053447350859642,-0.08664838969707489,-0.034674353897571564,-0.035172995179891586,0.006960371974855661,-0.01178378239274025,-0.05086422339081764,0.03069814294576645,0.037500835955142975,-0.05055548995733261,-0.035238344222307205,5.4413194447988644e-05,0.013646125793457031,0.013303636573255062,0.10195714235305786,0.04623410105705261,0.02563517354428768,0.04460170492529869,0.0020556740928441286,0.05282469838857651,-0.0034181741066277027,0.06423043459653854,0.026941349729895592,0.015740584582090378,-0.08745581656694412,0.020496446639299393,0.005932110361754894,-0.05950453132390976,-0.06523716449737549,0.018855340778827667,0.05996687337756157,0.09441418200731277,-0.034078314900398254,0.026197688654065132,-0.01341007836163044,-0.03853382542729378,-0.01912619173526764,0.0013943803496658802,-0.03876146301627159,-0.03680048882961273,-0.02829579822719097,-0.004750092048197985,0.009320917539298534,-0.02391594462096691,0.07166493684053421,0.03845295310020447,0.0019697011448442936,-0.01093147974461317,0.01892157644033432,-0.01537315733730793,0.03504250943660736,0.02067224495112896,0.005401100032031536,0.04711295664310455,-0.016068190336227417,0.0191784780472517,0.009447675198316574,-0.06435148417949677,-0.02999204397201538,-0.022093340754508972,-0.024634741246700287,0.03413325175642967,-0.03794611990451813,0.005960023496299982,0.002485824516043067,0.05423155426979065,0.057405341416597366,0.012000836431980133,0.04034165292978287,-0.0015512193785980344,-0.006492231972515583,0.02143283188343048,-0.07120973616838455,0.027357598766684532,-0.026931438595056534,-0.004891572520136833,0.00510511826723814,0.03882386162877083,0.017281465232372284,0.039504218846559525,0.00828111544251442,0.022601990029215813,0.04993229731917381,0.054061535745859146,0.05138683691620827,-0.05231589451432228,0.009111841209232807,0.009523183107376099,-0.013799332082271576,-0.04746916890144348,0.026715129613876343,-0.02387748286128044,0.06701259315013885,0.05022238940000534,-6.728315202053636e-05,-0.054136622697114944,0.02166163921356201,-0.03707731515169144,0.015246229246258736,-0.0399739146232605,0.0469009131193161,0.032003022730350494,-0.024282507598400116,0.016458658501505852,0.04774090647697449,0.012675754725933075,-0.0027527117636054754,0.016628002747893333,-0.021461246535182,0.06539399921894073,0.021040787920355797,-0.006272071972489357,0.017620615661144257,0.04396214708685875,0.07105715572834015,0.019076503813266754,0.023946676403284073,0.0195043683052063,-0.060747768729925156,0.007579484488815069,-0.02164580300450325,-0.007421253249049187,0.015879519283771515,-0.05711881071329117,-0.0011590635403990746,0.023836862295866013,0.005832589231431484,-0.026338005438447,0.017820511013269424,0.018205823376774788,0.018532035872340202,0.0122426962479949,-0.0175651703029871,-0.018424469977617264,0.016149958595633507,-0.038367293775081635,-0.008404744789004326,-0.009170573204755783,-0.041831232607364655,-0.007288228254765272,-0.037683021277189255,0.0028261286206543446,0.019422996789216995,0.038831401616334915,-0.009542981162667274,-0.03852575272321701,0.023841358721256256,-0.013444125652313232,0.021202368661761284,0.035379815846681595,-0.06101551651954651,0.015772927552461624,0.003365790005773306,-0.019548140466213226,-0.006331732962280512,-0.02555529586970806,-0.05630776658654213,-0.0427437387406826,-0.07553542405366898,0.016758132725954056,-0.020063893869519234,-0.01604027859866619,-0.013264529407024384,-0.03553148731589317,0.0037200446240603924,0.0017069539753720164,-0.004588369745761156,-0.0647621899843216,0.04245251789689064,0.009598915465176105,0.008178425952792168,0.04983234032988548,-0.019458744674921036,-0.009358169510960579,0.012517457827925682,-0.04085143283009529,-0.005918469745665789,0.005763876251876354,0.00014067799202166498,-0.01551397331058979,-0.027203595265746117,-0.03573442995548248,-0.02045467123389244,-0.006405450403690338,-0.032068926841020584,0.008306643925607204,-0.004689125809818506,0.0057927342131733894,-0.029859419912099838,-0.00594577519223094,0.0038160996045917273,-0.024594785645604134,-0.04786085709929466,-0.008072098717093468,-0.024953005835413933,0.019272955134510994,0.008575722575187683,-0.06368230283260345,0.01515590213239193,-0.07767917215824127,-0.0007521897205151618,-0.028946902602910995,0.004958645906299353,-0.0324011854827404,-0.004471576306968927,-0.046157050877809525,-0.0014593874802812934,-0.0028808219358325005,-0.03821547329425812,-0.0043683843687176704,0.022027578204870224,-0.0016602262621745467,0.0012921853922307491,-0.05295736715197563,0.04979617893695831,-0.0073105874471366405,0.03413100913167,0.022041935473680496,0.006631885189563036,0.020151412114501,-0.05210426449775696,0.00017416730406694114,-0.04783711954951286,-0.023398276418447495,0.0026058806106448174,-0.0389564074575901,0.014605941250920296,0.040355827659368515,-0.025139667093753815,-0.0641452968120575,-0.0009921063901856542,-0.0038887218106538057,0.043862566351890564,-0.005271784961223602,-0.055143773555755615,0.032227516174316406,-0.014188540168106556,-0.010983089916408062,0.0002560347493272275,0.032838162034749985,-0.017858993262052536,0.011779551394283772,0.004584701266139746,-0.004800228867679834,0.003750968025997281,0.007313185837119818,-0.012873896397650242,-0.014931291341781616,0.02511744759976864,-0.0774092972278595,0.02590818516910076,-0.03215234354138374,0.008049234747886658,0.008681271225214005,0.046307388693094254,-0.04937892407178879,-0.008128665387630463,0.05256053805351257,-0.03809893876314163,0.0021222566720098257,-0.04247976839542389,-0.008797983638942242,0.04368900880217552,-0.048305246978998184,0.019354280084371567,0.026555659249424934,-0.0028640383388847113,0.024954328313469887,-0.0006047782371751964,0.03128146380186081,-0.02898428961634636,0.06165480241179466,-0.00770787987858057,0.07743148505687714,-0.05836610868573189,0.04045812040567398,-0.03033546917140484,-0.051990509033203125,0.01238240860402584,-0.02833050675690174,-0.017790785059332848,0.01664244756102562,0.06314270943403244,-0.06333103030920029,0.024651888757944107,0.04443367198109627,0.03909905254840851,-0.00596760306507349,-0.04810602217912674,-0.03200927749276161,-0.03142682835459709,-0.03720229119062424,-0.06879094243049622,0.05587846040725708,0.002958949888125062,-0.03333817422389984,-0.017965860664844513,0.003973483107984066,0.0023638298735022545,0.03479903191328049,-0.07463817298412323,0.038264837116003036,-0.00014437407662626356,0.02215574122965336,0.07747042179107666,-0.0272291861474514,-0.005023622885346413,0.013250283896923065,-0.015453176572918892,-0.03153282031416893,0.01696491800248623,-0.05233713984489441,-0.03997005522251129,-0.04244866594672203,-0.06478343158960342,0.003784934524446726,-0.033649127930402756,0.0038670997601002455,0.021144941449165344,-0.01252525020390749,-0.03204356133937836,-0.07616235315799713,0.0460524708032608,0.030906056985259056,0.043690577149391174,-0.005040694959461689,0.01701311767101288,-0.030878504738211632,-0.01721017062664032,0.027067601680755615,-0.021951453760266304,-0.012019786052405834,0.013945507816970348,-0.0065689291805028915,-0.015782011672854424,0.039875052869319916,-0.00300686527043581,-0.03568004444241524,-0.05589549243450165,-0.048714276403188705,-0.019344205036759377,-0.02957424521446228,-0.07617761194705963,-0.031107988208532333,-0.017871251329779625,0.04740277677774429,-0.029160697013139725,-0.024188566952943802,0.02239045314490795,-0.07109207659959793,0.017685698345303535,-0.035009171813726425,0.001574340625666082,-0.002083087805658579,0.013894280418753624,0.011981714516878128,-0.03391557186841965,0.01755714975297451,0.021380634978413582,-0.06503766030073166,-0.027106931433081627,0.011075596325099468,0.019167233258485794,0.04389887675642967,-0.05766992270946503,0.05506175756454468,-0.038859330117702484,0.0181625597178936,0.00926580373197794,-0.005173295270651579,0.01110316626727581,-0.017014093697071075,0.011394945904612541,-0.045605894178152084,0.006019727326929569,0.0006216512992978096,-0.007386526558548212,-0.07295826077461243,-0.02691369503736496,0.02352549321949482,0.048735909163951874,-0.04204330965876579,0.00901884026825428,0.060170240700244904,0.002313079312443733,-0.07842083275318146,-0.03315397724509239,-0.016443267464637756,-0.02522030472755432,0.002825401956215501,0.04687558487057686,0.03911064192652702,-0.013890517875552177,-0.012411209754645824,-0.006023078691214323,0.006633703131228685,-0.030220404267311096,0.03856914862990379,0.040503229945898056,0.037832990288734436,0.07108355313539505,-0.006836623419076204,0.006996504962444305,0.05991348251700401,0.0040567796677351,0.04036708176136017,-0.0654139593243599,0.014221416786313057,-0.017179561778903008,-0.025752099230885506,-0.07307286560535431,-0.039405498653650284,0.06941191852092743,-0.013144797645509243,0.016223568469285965,0.01414016354829073,-0.012352670542895794,-0.036177974194288254,0.04202168807387352,0.032644983381032944,-0.07522168010473251,-0.032046303153038025,0.03903651982545853,-0.0007060817442834377,-0.02180720679461956,-0.0006676323828287423,-0.0020854673348367214,-0.010154779069125652,0.0795932337641716]\""
      ]
     },
     "execution_count": 37,
     "metadata": {},
     "output_type": "execute_result"
    }
   ],
   "source": []
  },
  {
   "cell_type": "code",
   "execution_count": 101,
   "metadata": {},
   "outputs": [
    {
     "name": "stdout",
     "output_type": "stream",
     "text": [
      "Error with 0: id,title,embedding\n",
      "Error with 1335: 158066\tCan You Teach Professionalism?\n",
      "Error with 3882: 454194\tUnd das ist auch gut so \n",
      "Error with 4346: 512064\tLocal magnetic inhomogeneities inBa(Fe1-xNix)2</\n",
      "Error with 4981: 587309\tIMAGENS NOS LIVROS DIDÁTICOS DE GEOGRAFIA: SEUS ENSINAMENTOS, SUA PEDAGOGIA... (pictures in geography textbooks: their lessons, their pedagogy\n",
      "Error with 6638: 784567\tDistinct magnetism in ultrathin epitaxial NiFe2O4films on MgAl2O<mml:math xmlns:mml=\"http://\n",
      "Error with 7001: 831244\t(\n",
      "Error with 8237: 986281\tTreffen sich zwei Mediatoren \n",
      "Error with 12190: 1472967\tResearch Shows That \n",
      "Error with 14958: 1807000\tStatistical Model Checking, Refinement Checking, Optimization, \n",
      "Error with 15688: 1892529\tPeur de la douleur, angoisse de la naissance : Les poupées russes\n",
      "Error with 16607: 2004647\t\n",
      "Error with 20616: 2504608\tPossible observation of a glassy ferroelectric:Bi1.8Pb0.3Sr<mml:\n",
      "Error with 21003: 2548764\tCONTAMINACI\"N ATMOSF\n",
      "Error with 21689: 2639771\tExperimental and theoretical study of the electronic structure ofAuAl2,AuGa2</mml\n",
      "Error with 24336: 2962401\tStructures ofGenclusters(n=310)and \n",
      "Error with 24670: 3005422\t\n",
      "Error with 24998: 3048156\tElectronic structure and magnetism ofSr3Ru2O7</mml\n",
      "Error with 25270: 3082806\tA feature of BESIII data for J/???(?'pp) and comments on <mml:math xmlns:mml=\"http://www.w3.org/1998/Math/MathML\" altimg=\"si2.gif\" \n",
      "Error with 25991: 3169614\tElectronic properties of the metallic pyrochlore ruthenatesPb2Ru2O6.5and<mml:msub\n",
      "Error with 26585: 3242794\tA world in transition\n",
      "Error with 26741: 3261819\tIt's a hair-dryer\n",
      "Error with 27019: 3297526\tMen Are Hard \n",
      "Error with 31516: 3876678\tAmong the Rest of the Senses\n",
      "Error with 37955: 4667601\tConditional stability for backward parabolic equations with LogLipt×Lip</\n",
      "Error with 38560: 4745916\tWelch ein Glücksfall\n",
      "Error with 39235: 4830945\tCalculations of parity-nonconservings-damplitudes in Cs, Fr,Ba+,and<mml:math xmlns:mml=\"http://www.w3.org/1998/Math/MathML\n",
      "Error with 40310: 4967595\tLifetimes of the first excited2+states inOs176,178,180</mml:\n",
      "Error with 41345: 5095609\tCommon Hermitian least squares solutions of matrix equations A1XA1*=B<\n",
      "Error with 42508: 5238903\t\n",
      "Error with 43682: 5385442\tOn the (s,t)-Pell and (s,t)-PellLucas \n",
      "Error with 44020: 5426597\t?0Polarization in800-GeV/cpp?<mml:mrow\n",
      "Error with 44714: 5510101\tMeasurement of theCP-Violating Phase?sinB¯s<mml:\n",
      "Error with 46992: 5799174\tAlle beetjes helpen\n",
      "Error with 47026: 5804046\t\n",
      "Error with 47027:  We Didn't Connect at All \n",
      "Error with 47518: 5868943\tFrom Commodification to Communal Art: Above Sex\n",
      "Error with 49192: 6079172\tBs?K(*)0K¯(*)<\n",
      "Error with 50572: 6250279\tModelling of Krn+ clusters IV: Structural changes in Kr</\n",
      "Error with 51458: 6362575\tWenn Engagement zur Arbeit wird \n",
      "Error with 51853: 6410992\tP34(Li7,Be7+?</\n",
      "Error with 51993: 6427411\tModern Architecture and Complaints about the Weather, or, Dear Monsieur Le Corbusier, It is still raining in our garage\n",
      "Error with 53229: 6579736\tNIH panel may increase gene-trial scrutiny\n",
      "Error with 54390: 6725198\tOnce upon a time \n",
      "Error with 55269: 6832256\t\"I Can Simply\n",
      "Error with 58900: 7290220\tElectronic phase separation in lightly dopedLa2-xSrxCu<\n",
      "Error with 59585: 7373654\tThe moment?x?u-dof the nucleon fromNf</mml:\n",
      "Error with 61687: 7649472\tPoliteness in Britain: Its Only a Suggestion\n",
      "Error with 62883: 7802883\tDes Kaisers alte Kleider \n",
      "Error with 64605: 8006011\tEnhanced L3\n",
      "Error with 64645: 8009405\tSearch for AssociatedWand Higgs Boson Production inpp¯Collisions ats=1.96<\n",
      "Error with 65556: 8120809\tRainbow-free colorings for x+y=cz in Zp</\n",
      "Error with 66145: 8191978\tSpin waves in the ferromagnetic metallic manganitesLa1-x(Ca1-ySr<mml\n",
      "Error with 66648: 8255030\tWe Are All Connected to Facebook \n",
      "Error with 66834: 8276609\tSearch for the decayB+?K¯*0<mml:\n",
      "Error with 70935: 8785568\tLa mediación\n",
      "Error with 72344: 8951355\t\n",
      "Error with 73971: 9153629\tMagnetic excitations in U(Ru1-xRhx)<mml:\n",
      "Error with 74389: 9206691\tUltracold thermalization ofLi7andRb87</mml\n",
      "Error with 75525: 9343678\tStructure, magnetic ordering, and Kondo effect in(Ce1-xNdx)3<\n",
      "Error with 75842: 9382596\t»By the crowd they have been broken \n",
      "Error with 78480: 9706778\tJ/?Production from Proton-Proton Collisions ats=200  GeV</mml:mi\n",
      "Error with 78502: 9709207\tTo them that hath\n",
      "Error with 78880: 9758167\tEines Tages wird das Jahrhundert vielleicht bergsonianisch sein \n",
      "Error with 79643: 9849160\tMorgens in einer Kindereinrichtung \n",
      "Error with 81204: 10036942\tALL inferiors are required to obey strictly\n",
      "Error with 84303: 10417771\tTact et Proprioception Musculaire, de la Posture aux Modèles Cérébraux\n",
      "Error with 86482: 10692919\tPlease don't downgrade the sequencers' role \n",
      "Error with 88981: 11006745\tMeeting the Challenge \n",
      "Error with 91987: 11390749\tClass of tunable wide band gap semiconductors?-(GexSi1-x)</\n",
      "Error with 94016: 11651218\tObservation of a NewDsJMeson inB+?D¯0D<\n",
      "Error with 99082: 12269923\tZonal dislocations mediating {101¯1}<mml:mo stretchy=\"false\n",
      "Error with 99478: 12314085\tStructural evolution and polar order inSr1-xBaxTiO</\n",
      "Error with 100066: 12384564\tOn the crossing numbers of Km?Cn and K<mml:\n",
      "Error with 100084: 12387100\tInequalities inLp-1for the extendedLp</mml\n",
      "Error with 101127: 12510756\tCherry, The Little Red Robot\n",
      "Error with 101128:  with a Mission \n",
      "Error with 102347: 12657225\tOhne uns schnappt jeder Kanzler über\n",
      "Error with 102656: 12694306\tSpin-cycloid instability as the origin of weak ferromagnetism in the disordered perovskiteBi0.8La0.2Fe0.5Mn0.5<mml:mi \n",
      "Error with 103438: 12789113\tA New Rational Framework for Modelling Exploratory Device Learning \n",
      "Error with 107949: 13347071\tGEOPOLITICS, GRAND STRATEGY AND CRITIQUE: TWENTY YEARS AND COUNTING \n",
      "Error with 108421: 13407372\tFísica, comunicação ou\n",
      "Error with 111854: 13825695\tTHREE-GOLD CLUSTER AS PROTON ACCEPTOR IN NONCONVENTIONAL HYDROGEN BONDS O-H\n",
      "Error with 111855: Au AND N-H\n",
      "Error with 112916: 13965648\tLibrary Support for Interdisciplinarity \n",
      "Error with 113723: 14061780\tMeasurement of the branching ratios of the decays ?0?S+e-?¯e and <mml:math xmlns:mml=\"http://www.w3.org/\n",
      "Error with 116133: 14378093\tNow and Then, Here and There \n",
      "Error with 118435: 14658929\tGolf är bara golf\n",
      "Error with 119990: 14853575\tMergers and Acquisitions Accounting Can Explain the Diversi\n",
      "Error with 123873: 15351136\tAn App a Day Keeps the Doctor\n",
      "Error with 125883: 15609323\tPower corrections toas(Mt),|Vu\n",
      "Error with 126677: 15711868\tNp237-O17cross relaxation in<mml:math xmlns:mml=\"http://www.w3.org/1998/Math/MathML\" display\n",
      "Error with 128678: 15955718\tHigh precisionY89(a,a)<mml:math xmlns:mml=\"\n",
      "Error with 129135: 16009686\tOn the Lq-saturation property for functions from W2,p</mml:mrow\n",
      "Error with 133405: 16505761\tSearch for Resonanttt¯Production inpp¯Collisions ats</mml:mi\n",
      "Error with 133938: 16564991\tUsing the Noisy-OR Model Can Be Harmful \n",
      "Error with 134039: 16578151\tEffects of electric and magnetic fields on phase-separatedLa0.7Sr0.3MnO3-d</mml:\n",
      "Error with 134797: 16673827\tNowhere has anyone attempted \n",
      "Error with 135194: 16720477\t????????\n",
      "Error with 135195: \n",
      "Error with 137584: 17017588\tß-delayed?-ray spectroscopy of203,204Au and<mml:math xmlns:mml=\"http://www.w3.org/1998/Math/MathML\" \n",
      "Error with 140689: 17396483\tStudy of local structure and Li dynamics in Li4+xTi5O12</\n",
      "Error with 141015: 17441417\tUnbounded solutions of the equation y?(t)=?i=1<\n",
      "Error with 141287: 17473656\tSisters at the helm\n",
      "Error with 142051: 17563885\tWe THINK We Can, We THINK We Can\n",
      "Error with 145772: 18034640\tScanning tunneling microscope light emission spectra of polycrystalline Ge2Sb2<mml:\n",
      "Error with 148785: 18404897\tA barrier for the Al13-+O2 reaction and its implication for the chemisorption of <mml:math\n",
      "Error with 149449: 18488916\tTwo-dimensional magnetic correlation and transport behavior of layered manganiteLa1.4Sr1.6<mml:mi mathvariant=\"normal\n",
      "Error with 149894: 18545883\t« Je me suis fabriqué mon cancer\n",
      "Error with 150188: 18581161\tFermat und die Güte Riemannscher Näherungen für ?-11?-11?-11F((a<mml:mi\n",
      "Error with 152483: 18884063\tInteraction ofO2,H2O,N<\n",
      "Error with 156559: 19418326\tCet obscur objet du désir\n",
      "Error with 157342: 19513935\tWhat Your Doctor Should Know about Statistics (but Perhaps Doesn't\n",
      "Error with 160351: 19876690\tRicostruzione della balista imperiale Romana -un piacevole viaggio fra fantasia, storia, tecnologia e \n",
      "Error with 165492: 20491904\tLuces, cámara\n",
      "Error with 165720: 20520734\tLattice dynamics inPbMg1/3Nb2/3O3</\n",
      "Error with 168142: 20814962\tCooperative processes and upconversion inCs2NaYCl6codoped with<mml:math xmlns:mml=\"http://www.w3.org/1998/Math/MathML\" display=\"inline\n",
      "Error with 170498: 21103205\tInelastic neutron scattering study of the hydrogenated (Zr55Cu30<mml:math xmlns:mml=\"http://\n",
      "Error with 170700: 21128075\tStrategische Rohstoffe  Risikovorsorge Ein Rück- und Ausblick mit einer Prise Phantasie\n",
      "Error with 171370: 21211611\tSymmetry of domains in morphotropic PbZr1-xTixO3</\n",
      "Error with 171379: 21212250\tLattice distortion and stripelike antiferromagnetic order inCa10(Pt3As8)(Fe\n",
      "Error with 171851: 21271417\tSoll ich je zum Augenblicke sagen\n",
      "Error with 173400: 21462011\tEine sozialistische Hochzeit braucht aber\n",
      "Error with 173550: 21480687\tDielectric properties of 0.4Na0.5Bi0.5TiO3</mml\n",
      "Error with 175237: 21692167\tMultiprobe high-pressure experiments inCePd0.6Rh0.4andCePd</mml:\n",
      "Error with 175987: 21792855\tIdentification of?rays fromAu172anda</mml:\n",
      "Error with 178159: 22065318\tSmall embedding of an S3(2,4,u) into an <mml:math xmlns:mml=\"http://www.w3.org/1998/Math/MathML\" altimg=\"si24.gif\" display=\"inline\" overflow\n",
      "Error with 180964: 22417733\tPeano, his School and \n",
      "Error with 181462: 22477144\tAquifers Know No Boundaries\n",
      "Error with 181912: 22533197\t»\n",
      "Error with 183203: 22691659\tWenn eine Welt zusammenbricht \n",
      "Error with 186387: 23104224\tAnalysis of the X(4350) as a scalar c¯c and <mml:math xmlns:mml=\"http://www.w3.org/1998/Math/MathML\" \n",
      "Error with 188712: 23405284\tWie die Moral in die Soziale Arbeit kommt \n",
      "Error with 190450: 23624319\tStudents as customers: Why the customer concept may not be right\n",
      "Error with 197304: 24455402\tOptical and electronic properties in(In0.53Ga0.47As)1-z/<mml\n",
      "Error with 197546: 24485658\tThe Furious'40SWar and RecoveryFull of Sound and Fury, Signifying \n",
      "Error with 197650: 24497637\tIndirect study of the12C(a,?)16</mml\n",
      "Error with 200897: 24895808\t\n",
      "Error with 204201: 25297749\tOn the fine spectrum of the operator B(r,s,t) over c<\n",
      "Error with 207154: 25665600\tHere where it lives \n",
      "Error with 207284: 25681565\tCAICISS and STM study of c(8×4) and (5×1<mml:mo \n",
      "Error with 207351: 25690300\t[D]id ringe at oure parish churche \n",
      "Error with 207352:  for joye that the Queene of Skotts \n",
      "Error with 207698: 25736922\tWaarom het maar niet wil lukken\n",
      "Error with 208232: 25800888\tMagnetic behavior of exchange-coupledFe30Au70/Fe<\n",
      "Error with 209168: 25914716\tPeriplos bestiales: Escamandro, Pegaso, Enigma\n",
      "Error with 211800: 26239730\tBut Wait, It Gets Even Weirder\n",
      "Error with 211828: 26242529\tEs war ein Opfer, welches wir erbrachten \n",
      "Error with 212100: 26278773\tSe hace camino al \n",
      "Error with 212226: 26294496\tDo unemployed workers bene\n",
      "Error with 213181: 26415885\tWhy have basic principles for organic agriculture? \n",
      "Error with 214257: 26553145\tLimits on the production of narrowtt¯resonances inpp¯collisions at<\n",
      "Error with 216629: 26862433\t'\n",
      "Error with 221426: 27480640\tÀ propos dune neuropathie\n",
      "Error with 221771: 27523181\tDes Architekten (Unerfüllte und Unerfüllbare) Sehnsucht\n",
      "Error with 222192: 27571956\tJenseits von Hartz  oder: was offen bleibt\n",
      "Error with 223925: 27777279\tDont Want to See No More\n",
      "Error with 224108: 27797470\tLow Density Materials through Freeze-Drying:Clay Aerogels and Beyond\n",
      "Error with 224441: 27836184\t\n",
      "Error with 224989: 27907626\tCluster transfer in the reaction16O+208Pb at energies well below the fusion barrier: A possible doorway to\n",
      "Error with 225183: 27930709\tUrtikaria \n",
      "Error with 225287: 27943293\tThat Ubiquitous Sum: 1 + 2 + 3 + \n",
      "Error with 226080: 28042470\tDu kannst Dir Deine Identität doch selber wählen \n",
      "Error with 227141: 28171424\tf?p+p-decay within a chiral unitary \n",
      "Error with 228336: 28318345\tTlinearity of in-plane resistivity inBi2Sr2CaCu2</mml:msub\n",
      "Error with 229227: 28423488\tMeasurement of theB¯0?D*+l-?¯l\n",
      "Error with 229705: 28479034\tSozialdemokratisch, liberal, konservativ \n",
      "Error with 233517: 28935653\tMagnons and acoustic phonons inY3-xBixFe</mml\n",
      "Error with 234009: 28995347\tFerromagnetic resonance of epitaxial Fe81Ga19(110<mml:mo stretchy=\"\n",
      "Error with 234450: 29048932\tAnd Now for Something Completely Different\n",
      "Error with 241871: 29969271\tTriangular flow of identified hadrons in Au+Au collisions at sNN</\n",
      "Error with 243770: 30212120\t« Lavoir en travers\n",
      "Error with 243921: 30229731\tMagnetic properties of rare-earth metal tritelluridesRTe3(R=Ce</\n",
      "Error with 244696: 30322590\t'It sort of widens the health word \n",
      "Error with 245881: 30474871\tYou make me feel like a natural woman \n"
     ]
    }
   ],
   "source": [
    "from operator import itemgetter\n",
    "from itertools import islice\n",
    "import numpy as np\n",
    "\n",
    "def get_vectors(lines):\n",
    "    for i, line in enumerate(lines):\n",
    "        try:\n",
    "            splits = line.split('\\t')\n",
    "            id_ = splits[0]\n",
    "            v_string = splits[-1][1:-1]\n",
    "            vector = list(map(float, v_string[1:-1].split(',')))\n",
    "            yield id_, vector\n",
    "        except Exception as e:\n",
    "            print(f\"Error with {i}: {line}\")\n",
    "            \n",
    "# string_to_vect = lambda string: list(map(float, string[1:-1].split(',')))\n",
    "# vectors = map(lambda line: line.split('\\t')[-1], islice(lines_, 1, None))\n",
    "# vectors = map(string_to_vect, vectors)\n",
    "# embeddings_array = np.vstack(tuple(vectors))\n",
    "            \n",
    "ids_and_vectors = dict(get_vectors(lines_))"
   ]
  },
  {
   "cell_type": "code",
   "execution_count": 102,
   "metadata": {},
   "outputs": [
    {
     "data": {
      "text/plain": [
       "(246979, 768)"
      ]
     },
     "execution_count": 102,
     "metadata": {},
     "output_type": "execute_result"
    }
   ],
   "source": [
    "len(list(ids_and_vectors.values()))\n",
    "embeddings_array = np.vstack(tuple(ids_and_vectors.values()))\n",
    "embeddings_array.shape"
   ]
  },
  {
   "cell_type": "code",
   "execution_count": 103,
   "metadata": {},
   "outputs": [
    {
     "data": {
      "text/plain": [
       "(246979, 2)"
      ]
     },
     "execution_count": 103,
     "metadata": {},
     "output_type": "execute_result"
    }
   ],
   "source": [
    "import umap  # pip install umap-learn\n",
    "reducer = umap.UMAP()\n",
    "planar_embedding = reducer.fit_transform(embeddings_array)\n",
    "del reducer\n",
    "planar_embedding.shape"
   ]
  },
  {
   "cell_type": "code",
   "execution_count": 64,
   "metadata": {},
   "outputs": [],
   "source": [
    "# make and save a csv of this id, x, y data\n",
    "import pandas as pd\n",
    "df = pd.DataFrame(planar_embedding, columns=['x', 'y'])\n",
    "df['id'] = list(ids_and_vectors.keys())\n",
    "# put id first\n",
    "cols = df.columns.tolist()\n",
    "cols = cols[-1:] + cols[:-1]\n",
    "df = df[cols]\n",
    "df.to_csv(filepath.replace('.txt', '_first_approx_247K.csv'))"
   ]
  },
  {
   "cell_type": "code",
   "execution_count": 104,
   "metadata": {},
   "outputs": [
    {
     "ename": "AttributeError",
     "evalue": "'_io.TextIOWrapper' object has no attribute 'dump'",
     "output_type": "error",
     "traceback": [
      "\u001b[0;31m---------------------------------------------------------------------------\u001b[0m",
      "\u001b[0;31mAttributeError\u001b[0m                            Traceback (most recent call last)",
      "Cell \u001b[0;32mIn[104], line 5\u001b[0m\n\u001b[1;32m      2\u001b[0m \u001b[38;5;28;01mimport\u001b[39;00m \u001b[38;5;21;01mjson\u001b[39;00m\n\u001b[1;32m      4\u001b[0m \u001b[38;5;28;01mwith\u001b[39;00m \u001b[38;5;28mopen\u001b[39m(filepath\u001b[38;5;241m.\u001b[39mreplace(\u001b[38;5;124m'\u001b[39m\u001b[38;5;124m.txt\u001b[39m\u001b[38;5;124m'\u001b[39m, \u001b[38;5;124m'\u001b[39m\u001b[38;5;124m_first_approx_247K.json\u001b[39m\u001b[38;5;124m'\u001b[39m), \u001b[38;5;124m'\u001b[39m\u001b[38;5;124mwt\u001b[39m\u001b[38;5;124m'\u001b[39m) \u001b[38;5;28;01mas\u001b[39;00m f:\n\u001b[0;32m----> 5\u001b[0m     \u001b[43mf\u001b[49m\u001b[38;5;241;43m.\u001b[39;49m\u001b[43mdump\u001b[49m(ids_and_planar_embedding)\n",
      "\u001b[0;31mAttributeError\u001b[0m: '_io.TextIOWrapper' object has no attribute 'dump'"
     ]
    }
   ],
   "source": [
    "ids_and_planar_embedding = dict(zip(ids_and_vectors.keys(), planar_embedding.tolist()))\n",
    "import json\n",
    "\n",
    "with open(filepath.replace('.txt', '_first_approx_247K.json'), 'wt') as f:\n",
    "    f.dump(ids_and_planar_embedding)\n",
    "    "
   ]
  },
  {
   "cell_type": "code",
   "execution_count": null,
   "metadata": {},
   "outputs": [],
   "source": [
    "# Note: In the following, we lighten up heavy variables as soon as we're finished with them.\n",
    "# Doing this because got a lot of \"kernel died\" errors, and I'm guessing it's because of memory issues.\n",
    "# Note: Perhaps running this in as a python script (rather than in a notebook) would help too.\n",
    "\n",
    "import umap  # pip install umap-learn\n",
    "reducer = umap.UMAP()\n",
    "planar_embedding = reducer.fit_transform(embeddings_array)\n",
    "del reducer\n",
    "print(f\"{planar_embedding.shape=}\")\n",
    "\n",
    "# pkl_store[f'arxiv-{kind}-2d-embedding.pkl'] = planar_embedding"
   ]
  },
  {
   "cell_type": "code",
   "execution_count": null,
   "metadata": {},
   "outputs": [],
   "source": [
    "# from py2store import PickleStore\n",
    "# import os\n",
    "\n",
    "# def tables_without_embeddings(tables):\n",
    "#     for d in tables.values():\n",
    "#         del d['embeddings']\n",
    "#         yield d\n",
    "\n",
    "# import pandas as pd\n",
    "\n",
    "# # for kind in ['titles']:\n",
    "# for kind in ['abstracts']:\n",
    "# # for kind in ['titles', 'abstracts']:\n",
    "#     tables = sources[kind]\n",
    "#     df = pd.concat(tables_without_embeddings(tables), axis=0)\n",
    "#     df['id'] = range(len(df)) # an id column is needed for cosmograph\n",
    "\n",
    "#     p = PickleStore(os.path.expanduser('~/tmp/'))\n",
    "#     planar_embedding = p[f'arxiv-{kind}-2d-embedding.pkl']\n",
    "\n",
    "#     df['x'] = planar_embedding[:, 0]\n",
    "#     df['y'] = planar_embedding[:, 1]\n",
    "\n",
    "#     save_filepath = os.path.join(save_dir, f'arxiv-{kind}-2d-embedding.csv')\n",
    "#     df.to_csv(save_filepath)"
   ]
  },
  {
   "cell_type": "code",
   "execution_count": 67,
   "metadata": {},
   "outputs": [
    {
     "data": {
      "text/plain": [
       "58"
      ]
     },
     "execution_count": 67,
     "metadata": {},
     "output_type": "execute_result"
    }
   ],
   "source": [
    "from dol import Files\n",
    "\n",
    "s = Files('/Users/thorwhalen/Dropbox/_odata/ai/citation-network-2023nov/embeddings_chunks')\n",
    "len(s)"
   ]
  },
  {
   "cell_type": "code",
   "execution_count": 98,
   "metadata": {},
   "outputs": [],
   "source": [
    "import io\n",
    "df = pd.DataFrame(columns=['id', 'title', 'vector'])\n",
    "for v in s.values():\n",
    "    dff = pd.read_csv(io.StringIO(v.decode('latin-1')), sep='\\t', header=None)\n",
    "    # concatinate to df vertically, keeping the columns of df\n",
    "    df = pd.concat([df, dff], axis=0)\n",
    "    # set the columns to ['id', 'title', 'vector']"
   ]
  },
  {
   "cell_type": "code",
   "execution_count": 99,
   "metadata": {},
   "outputs": [
    {
     "data": {
      "text/plain": [
       "(177, 6)"
      ]
     },
     "execution_count": 99,
     "metadata": {},
     "output_type": "execute_result"
    }
   ],
   "source": [
    "df.shape"
   ]
  },
  {
   "cell_type": "markdown",
   "metadata": {},
   "source": []
  }
 ],
 "metadata": {
  "kernelspec": {
   "display_name": "Python 3",
   "language": "python",
   "name": "python3"
  },
  "language_info": {
   "codemirror_mode": {
    "name": "ipython",
    "version": 3
   },
   "file_extension": ".py",
   "mimetype": "text/x-python",
   "name": "python",
   "nbconvert_exporter": "python",
   "pygments_lexer": "ipython3",
   "version": "3.10.13"
  }
 },
 "nbformat": 4,
 "nbformat_minor": 2
}
